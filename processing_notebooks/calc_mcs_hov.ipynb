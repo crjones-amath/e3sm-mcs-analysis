{
 "cells": [
  {
   "cell_type": "markdown",
   "metadata": {},
   "source": [
    "# Process for Hovmoller diagrams\n",
    "Adapted from `calc_mcs_hov_monthly.py`, provided by Zhe Feng"
   ]
  },
  {
   "cell_type": "code",
   "execution_count": 61,
   "metadata": {},
   "outputs": [],
   "source": [
    "%matplotlib inline\n",
    "import matplotlib.pyplot as plt\n",
    "import numpy as np\n",
    "import xarray as xr\n",
    "from glob import glob\n",
    "import os\n",
    "import itertools"
   ]
  },
  {
   "cell_type": "code",
   "execution_count": 63,
   "metadata": {},
   "outputs": [],
   "source": [
    "do_overwrite = False"
   ]
  },
  {
   "cell_type": "code",
   "execution_count": 76,
   "metadata": {},
   "outputs": [
    {
     "name": "stdout",
     "output_type": "stream",
     "text": [
      "/global/cscratch1/sd/crjones/ECP/e3sm/\n",
      "/global/cscratch1/sd/crjones/ECP/e3sm/mcstracking_ccs3e4/\n",
      "/global/cscratch1/sd/crjones/ECP/e3sm/statstb_ccs3e4/\n",
      "/global/cscratch1/sd/crjones/ECP/e3sm/mcstracking_ccs3e4/20010301_20011031\n",
      "/global/cscratch1/sd/crjones/ECP/e3sm/mcstracking_ccs3e4/20020301_20021031\n",
      "/global/cscratch1/sd/crjones/ECP/e3sm/mcstracking_ccs3e4/20030301_20031031\n",
      "['2001', '2002', '2003']\n"
     ]
    }
   ],
   "source": [
    "run_name = 'e3sm'\n",
    "test_suff = '_ccs3e4'\n",
    "root_dir = f'/global/cscratch1/sd/crjones/ECP/{run_name}/'\n",
    "print(root_dir)\n",
    "mcs_dir = f'{root_dir}mcstracking{test_suff}/'\n",
    "out_dir = f'{root_dir}statstb{test_suff}/'\n",
    "\n",
    "print(mcs_dir)\n",
    "print(out_dir)\n",
    "glob(root_dir + '*')\n",
    "glob(mcs_dir + '*')\n",
    "glob(out_dir + '*')\n",
    "print(*sorted(glob(mcs_dir+'*')), sep='\\n')\n",
    "\n",
    "# Hovmoller domain\n",
    "startlat = 31.0\n",
    "endlat = 48.0\n",
    "startlon = -110.0\n",
    "endlon = -80.0\n",
    "\n",
    "if not os.path.exists(out_dir):\n",
    "    os.makedirs(out_dir, exist_ok=True)\n",
    "years = sorted([fname.split('_')[-1][:4] for fname in glob(mcs_dir + '*')])\n",
    "print(years)"
   ]
  },
  {
   "cell_type": "code",
   "execution_count": 68,
   "metadata": {},
   "outputs": [],
   "source": [
    "# loop through this biz:\n",
    "# years = ['2001', '2002', '2003', '2004', '2005', '2006', '2007']\n",
    "months = ['03', '04', '05', '06', '07', '08']"
   ]
  },
  {
   "cell_type": "code",
   "execution_count": null,
   "metadata": {},
   "outputs": [
    {
     "name": "stdout",
     "output_type": "stream",
     "text": [
      "2001 03\n",
      "/global/cscratch1/sd/crjones/ECP/e3sm/statstb_ccs3e4/mcs_rainhov_200103.nc\n",
      "Finished reading input files.\n"
     ]
    },
    {
     "name": "stderr",
     "output_type": "stream",
     "text": [
      "/global/homes/c/crjones/.conda/envs/spe3sm_env/lib/python3.7/site-packages/dask/core.py:137: RuntimeWarning: invalid value encountered in greater\n",
      "  return func(*args2)\n"
     ]
    },
    {
     "name": "stdout",
     "output_type": "stream",
     "text": [
      "Hovmoller output saved as:  /global/cscratch1/sd/crjones/ECP/e3sm/statstb_ccs3e4/mcs_rainhov_200103.nc\n",
      "2001 04\n",
      "/global/cscratch1/sd/crjones/ECP/e3sm/statstb_ccs3e4/mcs_rainhov_200104.nc\n",
      "Finished reading input files.\n"
     ]
    },
    {
     "name": "stderr",
     "output_type": "stream",
     "text": [
      "/global/homes/c/crjones/.conda/envs/spe3sm_env/lib/python3.7/site-packages/dask/core.py:137: RuntimeWarning: invalid value encountered in greater\n",
      "  return func(*args2)\n"
     ]
    },
    {
     "name": "stdout",
     "output_type": "stream",
     "text": [
      "Hovmoller output saved as:  /global/cscratch1/sd/crjones/ECP/e3sm/statstb_ccs3e4/mcs_rainhov_200104.nc\n",
      "2001 05\n",
      "/global/cscratch1/sd/crjones/ECP/e3sm/statstb_ccs3e4/mcs_rainhov_200105.nc\n",
      "Finished reading input files.\n"
     ]
    },
    {
     "name": "stderr",
     "output_type": "stream",
     "text": [
      "/global/homes/c/crjones/.conda/envs/spe3sm_env/lib/python3.7/site-packages/dask/core.py:137: RuntimeWarning: invalid value encountered in greater\n",
      "  return func(*args2)\n"
     ]
    },
    {
     "name": "stdout",
     "output_type": "stream",
     "text": [
      "Hovmoller output saved as:  /global/cscratch1/sd/crjones/ECP/e3sm/statstb_ccs3e4/mcs_rainhov_200105.nc\n",
      "2001 06\n",
      "/global/cscratch1/sd/crjones/ECP/e3sm/statstb_ccs3e4/mcs_rainhov_200106.nc\n",
      "Finished reading input files.\n"
     ]
    },
    {
     "name": "stderr",
     "output_type": "stream",
     "text": [
      "/global/homes/c/crjones/.conda/envs/spe3sm_env/lib/python3.7/site-packages/dask/core.py:137: RuntimeWarning: invalid value encountered in greater\n",
      "  return func(*args2)\n"
     ]
    },
    {
     "name": "stdout",
     "output_type": "stream",
     "text": [
      "Hovmoller output saved as:  /global/cscratch1/sd/crjones/ECP/e3sm/statstb_ccs3e4/mcs_rainhov_200106.nc\n",
      "2001 07\n",
      "/global/cscratch1/sd/crjones/ECP/e3sm/statstb_ccs3e4/mcs_rainhov_200107.nc\n",
      "Finished reading input files.\n"
     ]
    },
    {
     "name": "stderr",
     "output_type": "stream",
     "text": [
      "/global/homes/c/crjones/.conda/envs/spe3sm_env/lib/python3.7/site-packages/dask/core.py:137: RuntimeWarning: invalid value encountered in greater\n",
      "  return func(*args2)\n"
     ]
    },
    {
     "name": "stdout",
     "output_type": "stream",
     "text": [
      "Hovmoller output saved as:  /global/cscratch1/sd/crjones/ECP/e3sm/statstb_ccs3e4/mcs_rainhov_200107.nc\n",
      "2001 08\n",
      "/global/cscratch1/sd/crjones/ECP/e3sm/statstb_ccs3e4/mcs_rainhov_200108.nc\n",
      "Finished reading input files.\n"
     ]
    },
    {
     "name": "stderr",
     "output_type": "stream",
     "text": [
      "/global/homes/c/crjones/.conda/envs/spe3sm_env/lib/python3.7/site-packages/dask/core.py:137: RuntimeWarning: invalid value encountered in greater\n",
      "  return func(*args2)\n"
     ]
    },
    {
     "name": "stdout",
     "output_type": "stream",
     "text": [
      "Hovmoller output saved as:  /global/cscratch1/sd/crjones/ECP/e3sm/statstb_ccs3e4/mcs_rainhov_200108.nc\n",
      "2002 03\n",
      "/global/cscratch1/sd/crjones/ECP/e3sm/statstb_ccs3e4/mcs_rainhov_200203.nc\n",
      "Finished reading input files.\n"
     ]
    },
    {
     "name": "stderr",
     "output_type": "stream",
     "text": [
      "/global/homes/c/crjones/.conda/envs/spe3sm_env/lib/python3.7/site-packages/dask/core.py:137: RuntimeWarning: invalid value encountered in greater\n",
      "  return func(*args2)\n"
     ]
    },
    {
     "name": "stdout",
     "output_type": "stream",
     "text": [
      "Hovmoller output saved as:  /global/cscratch1/sd/crjones/ECP/e3sm/statstb_ccs3e4/mcs_rainhov_200203.nc\n",
      "2002 04\n",
      "/global/cscratch1/sd/crjones/ECP/e3sm/statstb_ccs3e4/mcs_rainhov_200204.nc\n",
      "Finished reading input files.\n"
     ]
    },
    {
     "name": "stderr",
     "output_type": "stream",
     "text": [
      "/global/homes/c/crjones/.conda/envs/spe3sm_env/lib/python3.7/site-packages/dask/core.py:137: RuntimeWarning: invalid value encountered in greater\n",
      "  return func(*args2)\n"
     ]
    },
    {
     "name": "stdout",
     "output_type": "stream",
     "text": [
      "Hovmoller output saved as:  /global/cscratch1/sd/crjones/ECP/e3sm/statstb_ccs3e4/mcs_rainhov_200204.nc\n",
      "2002 05\n",
      "/global/cscratch1/sd/crjones/ECP/e3sm/statstb_ccs3e4/mcs_rainhov_200205.nc\n",
      "Finished reading input files.\n"
     ]
    },
    {
     "name": "stderr",
     "output_type": "stream",
     "text": [
      "/global/homes/c/crjones/.conda/envs/spe3sm_env/lib/python3.7/site-packages/dask/core.py:137: RuntimeWarning: invalid value encountered in greater\n",
      "  return func(*args2)\n"
     ]
    },
    {
     "name": "stdout",
     "output_type": "stream",
     "text": [
      "Hovmoller output saved as:  /global/cscratch1/sd/crjones/ECP/e3sm/statstb_ccs3e4/mcs_rainhov_200205.nc\n",
      "2002 06\n",
      "/global/cscratch1/sd/crjones/ECP/e3sm/statstb_ccs3e4/mcs_rainhov_200206.nc\n",
      "Finished reading input files.\n"
     ]
    },
    {
     "name": "stderr",
     "output_type": "stream",
     "text": [
      "/global/homes/c/crjones/.conda/envs/spe3sm_env/lib/python3.7/site-packages/dask/core.py:137: RuntimeWarning: invalid value encountered in greater\n",
      "  return func(*args2)\n"
     ]
    },
    {
     "name": "stdout",
     "output_type": "stream",
     "text": [
      "Hovmoller output saved as:  /global/cscratch1/sd/crjones/ECP/e3sm/statstb_ccs3e4/mcs_rainhov_200206.nc\n",
      "2002 07\n",
      "/global/cscratch1/sd/crjones/ECP/e3sm/statstb_ccs3e4/mcs_rainhov_200207.nc\n",
      "Finished reading input files.\n"
     ]
    },
    {
     "name": "stderr",
     "output_type": "stream",
     "text": [
      "/global/homes/c/crjones/.conda/envs/spe3sm_env/lib/python3.7/site-packages/dask/core.py:137: RuntimeWarning: invalid value encountered in greater\n",
      "  return func(*args2)\n"
     ]
    },
    {
     "name": "stdout",
     "output_type": "stream",
     "text": [
      "Hovmoller output saved as:  /global/cscratch1/sd/crjones/ECP/e3sm/statstb_ccs3e4/mcs_rainhov_200207.nc\n",
      "2002 08\n",
      "/global/cscratch1/sd/crjones/ECP/e3sm/statstb_ccs3e4/mcs_rainhov_200208.nc\n",
      "Finished reading input files.\n"
     ]
    },
    {
     "name": "stderr",
     "output_type": "stream",
     "text": [
      "/global/homes/c/crjones/.conda/envs/spe3sm_env/lib/python3.7/site-packages/dask/core.py:137: RuntimeWarning: invalid value encountered in greater\n",
      "  return func(*args2)\n"
     ]
    },
    {
     "name": "stdout",
     "output_type": "stream",
     "text": [
      "Hovmoller output saved as:  /global/cscratch1/sd/crjones/ECP/e3sm/statstb_ccs3e4/mcs_rainhov_200208.nc\n",
      "2003 03\n",
      "/global/cscratch1/sd/crjones/ECP/e3sm/statstb_ccs3e4/mcs_rainhov_200303.nc\n",
      "Finished reading input files.\n"
     ]
    },
    {
     "name": "stderr",
     "output_type": "stream",
     "text": [
      "/global/homes/c/crjones/.conda/envs/spe3sm_env/lib/python3.7/site-packages/dask/core.py:137: RuntimeWarning: invalid value encountered in greater\n",
      "  return func(*args2)\n"
     ]
    },
    {
     "name": "stdout",
     "output_type": "stream",
     "text": [
      "Hovmoller output saved as:  /global/cscratch1/sd/crjones/ECP/e3sm/statstb_ccs3e4/mcs_rainhov_200303.nc\n",
      "2003 04\n",
      "/global/cscratch1/sd/crjones/ECP/e3sm/statstb_ccs3e4/mcs_rainhov_200304.nc\n",
      "Finished reading input files.\n"
     ]
    },
    {
     "name": "stderr",
     "output_type": "stream",
     "text": [
      "/global/homes/c/crjones/.conda/envs/spe3sm_env/lib/python3.7/site-packages/dask/core.py:137: RuntimeWarning: invalid value encountered in greater\n",
      "  return func(*args2)\n"
     ]
    },
    {
     "name": "stdout",
     "output_type": "stream",
     "text": [
      "Hovmoller output saved as:  /global/cscratch1/sd/crjones/ECP/e3sm/statstb_ccs3e4/mcs_rainhov_200304.nc\n",
      "2003 05\n",
      "/global/cscratch1/sd/crjones/ECP/e3sm/statstb_ccs3e4/mcs_rainhov_200305.nc\n",
      "Finished reading input files.\n"
     ]
    },
    {
     "name": "stderr",
     "output_type": "stream",
     "text": [
      "/global/homes/c/crjones/.conda/envs/spe3sm_env/lib/python3.7/site-packages/dask/core.py:137: RuntimeWarning: invalid value encountered in greater\n",
      "  return func(*args2)\n"
     ]
    },
    {
     "name": "stdout",
     "output_type": "stream",
     "text": [
      "Hovmoller output saved as:  /global/cscratch1/sd/crjones/ECP/e3sm/statstb_ccs3e4/mcs_rainhov_200305.nc\n",
      "2003 06\n",
      "/global/cscratch1/sd/crjones/ECP/e3sm/statstb_ccs3e4/mcs_rainhov_200306.nc\n",
      "Finished reading input files.\n"
     ]
    },
    {
     "name": "stderr",
     "output_type": "stream",
     "text": [
      "/global/homes/c/crjones/.conda/envs/spe3sm_env/lib/python3.7/site-packages/dask/core.py:137: RuntimeWarning: invalid value encountered in greater\n",
      "  return func(*args2)\n"
     ]
    },
    {
     "name": "stdout",
     "output_type": "stream",
     "text": [
      "Hovmoller output saved as:  /global/cscratch1/sd/crjones/ECP/e3sm/statstb_ccs3e4/mcs_rainhov_200306.nc\n",
      "2003 07\n",
      "/global/cscratch1/sd/crjones/ECP/e3sm/statstb_ccs3e4/mcs_rainhov_200307.nc\n",
      "Finished reading input files.\n"
     ]
    },
    {
     "name": "stderr",
     "output_type": "stream",
     "text": [
      "/global/homes/c/crjones/.conda/envs/spe3sm_env/lib/python3.7/site-packages/dask/core.py:137: RuntimeWarning: invalid value encountered in greater\n",
      "  return func(*args2)\n"
     ]
    },
    {
     "name": "stdout",
     "output_type": "stream",
     "text": [
      "Hovmoller output saved as:  /global/cscratch1/sd/crjones/ECP/e3sm/statstb_ccs3e4/mcs_rainhov_200307.nc\n",
      "2003 08\n",
      "/global/cscratch1/sd/crjones/ECP/e3sm/statstb_ccs3e4/mcs_rainhov_200308.nc\n",
      "Finished reading input files.\n"
     ]
    },
    {
     "name": "stderr",
     "output_type": "stream",
     "text": [
      "/global/homes/c/crjones/.conda/envs/spe3sm_env/lib/python3.7/site-packages/dask/core.py:137: RuntimeWarning: invalid value encountered in greater\n",
      "  return func(*args2)\n"
     ]
    }
   ],
   "source": [
    "for year, month in itertools.product(years, months):\n",
    "    print(year, month)\n",
    "    mcs_dir = f'{root_dir}mcstracking{test_suff}/{year}0301_{year}1031'\n",
    "    mcs_files = sorted(glob(f'{mcs_dir}/mcstrack_{year}{month}??_????.nc'))\n",
    "    hov_outfile = f'{out_dir}mcs_rainhov_{year}{month}.nc'\n",
    "    print(hov_outfile)\n",
    "    if not do_overwrite and os.path.isfile(hov_outfile):\n",
    "        print('skipping because output already exists')\n",
    "        continue\n",
    "    # Read data\n",
    "    ds = xr.open_mfdataset(mcs_files, concat_dim='time', drop_variables=['numclouds','tb','cloudnumber'])\n",
    "    print('Finished reading input files.')\n",
    "    \n",
    "    # Hovmoller calculation ...\n",
    "    is_precipitating_mcs = (ds.pcptracknumber > 0) & (ds.precipitation >= 0)\n",
    "    mcs_precip = ds['precipitation'].where(is_precipitating_mcs, 0).copy()  # nans replaced with zeros\n",
    "\n",
    "    # Select a latitude band and time period where both simulation exist\n",
    "    mcs_precip_hov = mcs_precip.sel(lat=slice(startlat, endlat)).mean(dim='lat').load()\n",
    "    tot_precip_hov = ds['precipitation'].where(ds.precipitation >= 0).sel(lat=slice(startlat, endlat)).mean(dim='lat').load()\n",
    "    \n",
    "    dshov = xr.Dataset({'precipitation': tot_precip_hov,\n",
    "                        'mcs_precipitation': mcs_precip_hov},\n",
    "                       attrs={'title': 'MCS precipitation Hovmoller',\n",
    "                              'startlat': startlat,\n",
    "                              'endlat': endlat,\n",
    "                              'startlon': startlon,\n",
    "                              'endlon': endlon,\n",
    "                              'contact':'C. Jones, christopher.jones@pnnl.gov',\n",
    "                              }\n",
    "                      )\n",
    "    # write to file\n",
    "    dshov.to_netcdf(path=hov_outfile, mode='w', format='NETCDF4_CLASSIC', unlimited_dims='time',\n",
    "                    encoding={'lon': {'zlib': True, 'dtype': 'float32'},\n",
    "                              'precipitation': {'zlib': True, 'dtype':'float32'},\n",
    "                              'mcs_precipitation': {'zlib': True, 'dtype': 'float32'}\n",
    "                             }\n",
    "                   )\n",
    "    print('Hovmoller output saved as: ', hov_outfile)"
   ]
  },
  {
   "cell_type": "code",
   "execution_count": 53,
   "metadata": {},
   "outputs": [
    {
     "name": "stdout",
     "output_type": "stream",
     "text": [
      "/global/cscratch1/sd/crjones/ECP/e3sm-mmf/statstb/mcs_rainhov_200103.nc\n"
     ]
    }
   ],
   "source": [
    "year = '2001'\n",
    "month = '03'\n",
    "mcs_dir = f'/global/cscratch1/sd/crjones/ECP/e3sm-mmf/mcstracking/{year}0301_{year}1031'\n",
    "mcs_files = sorted(glob(f'{mcs_dir}/mcstrack_{year}{month}??_????.nc'))\n",
    "# print(*mcs_files, sep='\\n')   # everything here checks out okay\n",
    "hov_outfile = f'{out_dir}mcs_rainhov_{year}{month}.nc'\n",
    "print(hov_outfile)\n",
    "# os.makedirs(outdir, exist_ok=True)"
   ]
  },
  {
   "cell_type": "code",
   "execution_count": 19,
   "metadata": {},
   "outputs": [
    {
     "name": "stdout",
     "output_type": "stream",
     "text": [
      "Finish reading input files.\n"
     ]
    }
   ],
   "source": [
    "\n",
    "# Read data\n",
    "ds = xr.open_mfdataset(mcs_files, concat_dim='time', drop_variables=['numclouds','tb','cloudnumber'])\n",
    "print('Finish reading input files.')"
   ]
  },
  {
   "cell_type": "code",
   "execution_count": 46,
   "metadata": {},
   "outputs": [],
   "source": [
    "# Hovmoller calculation is more straightforward ...\n",
    "is_precipitating_mcs = (ds.pcptracknumber > 0) & (ds.precipitation >= 0)\n",
    "mcs_precip = ds['precipitation'].where(is_precipitating_mcs, 0).copy()  # nans replaced with zeros\n",
    "\n",
    "# Select a latitude band and time period where both simulation exist\n",
    "mcs_precip_hov = mcs_precip.sel(lat=slice(startlat, endlat)).mean(dim='lat').load()\n",
    "tot_precip_hov = ds['precipitation'].where(ds.precipitation >= 0).sel(lat=slice(startlat, endlat)).mean(dim='lat').load()"
   ]
  },
  {
   "cell_type": "code",
   "execution_count": 51,
   "metadata": {},
   "outputs": [
    {
     "data": {
      "text/plain": [
       "<xarray.Dataset>\n",
       "Dimensions:            (lon: 320, time: 744)\n",
       "Coordinates:\n",
       "  * lon                (lon) float32 220.125 220.375 220.625 ... 299.625 299.875\n",
       "  * time               (time) datetime64[ns] 2001-03-01 ... 2001-03-31T23:00:00\n",
       "Data variables:\n",
       "    precipitation      (time, lon) float32 0.0065801237 ... 0.0017657485\n",
       "    mcs_precipitation  (time, lon) float32 0.0 0.0 0.0 0.0 ... 0.0 0.0 0.0 0.0\n",
       "Attributes:\n",
       "    title:     MCS precipitation Hovmoller\n",
       "    startlat:  31.0\n",
       "    endlat:    48.0\n",
       "    startlon:  -110.0\n",
       "    endlon:    -80.0\n",
       "    contact:   C. Jones, christopher.jones@pnnl.gov"
      ]
     },
     "execution_count": 51,
     "metadata": {},
     "output_type": "execute_result"
    }
   ],
   "source": [
    "dshov = xr.Dataset({'precipitation': tot_precip_hov,\n",
    "                    'mcs_precipitation': mcs_precip_hov},\n",
    "                    attrs={'title': 'MCS precipitation Hovmoller',\n",
    "                           'startlat': startlat,\n",
    "                           'endlat': endlat,\n",
    "                           'startlon': startlon,\n",
    "                           'endlon': endlon,\n",
    "                           'contact':'C. Jones, christopher.jones@pnnl.gov'\n",
    "                          }\n",
    "                  )\n",
    "dshov"
   ]
  },
  {
   "cell_type": "code",
   "execution_count": 58,
   "metadata": {},
   "outputs": [
    {
     "name": "stdout",
     "output_type": "stream",
     "text": [
      "Hovmoller output saved as:  /global/cscratch1/sd/crjones/ECP/e3sm-mmf/statstb/mcs_rainhov_200103.nc\n"
     ]
    }
   ],
   "source": [
    "# write to file\n",
    "dshov.to_netcdf(path=hov_outfile, mode='w', format='NETCDF4_CLASSIC', unlimited_dims='time',\n",
    "                encoding={'lon': {'zlib': True, 'dtype': 'float32'},\n",
    "                          'precipitation': {'zlib': True, 'dtype':'float32'},\n",
    "                          'mcs_precipitation': {'zlib': True, 'dtype': 'float32'}\n",
    "                         }\n",
    "               )\n",
    "print('Hovmoller output saved as: ', hov_outfile)"
   ]
  },
  {
   "cell_type": "code",
   "execution_count": 33,
   "metadata": {},
   "outputs": [
    {
     "name": "stderr",
     "output_type": "stream",
     "text": [
      "/global/homes/c/crjones/.conda/envs/spe3sm_env/lib/python3.7/site-packages/dask/compatibility.py:93: RuntimeWarning: All-NaN slice encountered\n",
      "  return func(*args, **kwargs)\n",
      "/global/homes/c/crjones/.conda/envs/spe3sm_env/lib/python3.7/site-packages/toolz/functoolz.py:468: RuntimeWarning: All-NaN slice encountered\n",
      "  ret = f(ret)\n"
     ]
    }
   ],
   "source": [
    "# Find the min/max track number\n",
    "mintracknum = ds.pcptracknumber.min().values.item()\n",
    "maxtracknum = ds.pcptracknumber.max().values.item()\n",
    "# Some months has 0 MCS, in which case a NAN is returned\n",
    "# In that case set the min/max track number to 0\n",
    "if np.isnan(mintracknum) == True:\n",
    "    mintracknum = 0\n",
    "    maxtracknum = 0\n",
    "else:\n",
    "    mintracknum = int(mintracknum)\n",
    "    maxtracknum = int(maxtracknum)"
   ]
  },
  {
   "cell_type": "code",
   "execution_count": 38,
   "metadata": {},
   "outputs": [],
   "source": [
    "num_mcs_map = np.zeros((len(ds.lat), len(ds.lon)), dtype='int')"
   ]
  },
  {
   "cell_type": "code",
   "execution_count": 41,
   "metadata": {},
   "outputs": [
    {
     "name": "stdout",
     "output_type": "stream",
     "text": [
      "1\n",
      "1 1\n",
      "2\n",
      "2 1\n",
      "3\n",
      "3 2\n",
      "4\n",
      "4 2\n",
      "5\n",
      "5 2\n",
      "6\n",
      "6 2\n",
      "7\n",
      "7 3\n",
      "8\n",
      "8 3\n",
      "9\n",
      "9 4\n",
      "10\n",
      "10 4\n",
      "11\n",
      "11 4\n",
      "12\n",
      "12 5\n",
      "13\n",
      "13 5\n",
      "14\n",
      "14 5\n",
      "15\n",
      "15 5\n",
      "16\n",
      "16 5\n",
      "17\n",
      "17 5\n",
      "18\n",
      "18 6\n",
      "19\n",
      "19 6\n",
      "20\n",
      "20 6\n",
      "21\n",
      "21 6\n",
      "22\n",
      "22 6\n",
      "23\n",
      "23 6\n",
      "24\n",
      "24 7\n",
      "25\n",
      "25 7\n",
      "26\n",
      "26 7\n",
      "27\n",
      "27 7\n",
      "28\n",
      "28 7\n",
      "29\n",
      "29 8\n",
      "30\n",
      "30 8\n",
      "31\n",
      "31 8\n",
      "32\n",
      "32 8\n"
     ]
    }
   ],
   "source": [
    "# Create an array to store number of MCSs on a map\n",
    "num_mcs_map = np.zeros((len(ds.lat), len(ds.lon)), dtype='int')\n",
    "for itrack in range(mintracknum, maxtracknum + 1):\n",
    "    # print(itrack)\n",
    "    # Locate the same track number across time, sum over time to get the swath,\n",
    "    # turn the swath to 1 (true/false), then sum on the map\n",
    "    num_mcs_map += ((ds.pcptracknumber.where(ds.pcptracknumber == itrack).sum(dim='time')) > 0).values\n",
    "    print(itrack, np.max(num_mcs_map))"
   ]
  },
  {
   "cell_type": "code",
   "execution_count": 20,
   "metadata": {},
   "outputs": [
    {
     "data": {
      "text/plain": [
       "<xarray.Dataset>\n",
       "Dimensions:               (lat: 120, lon: 320, time: 744)\n",
       "Coordinates:\n",
       "  * lon                   (lon) float32 220.125 220.375 ... 299.625 299.875\n",
       "  * lat                   (lat) float32 20.125 20.375 20.625 ... 49.625 49.875\n",
       "  * time                  (time) datetime64[ns] 2001-03-01 ... 2001-03-31T23:00:00\n",
       "Data variables:\n",
       "    base_time             (time) datetime64[ns] dask.array<shape=(744,), chunksize=(1,)>\n",
       "    julian_day            (time) float64 dask.array<shape=(744,), chunksize=(1,)>\n",
       "    longitude             (time, lat, lon) float32 dask.array<shape=(744, 120, 320), chunksize=(1, 120, 320)>\n",
       "    latitude              (time, lat, lon) float32 dask.array<shape=(744, 120, 320), chunksize=(1, 120, 320)>\n",
       "    precipitation         (time, lat, lon) float32 dask.array<shape=(744, 120, 320), chunksize=(1, 120, 320)>\n",
       "    cloudtype             (time, lat, lon) float32 dask.array<shape=(744, 120, 320), chunksize=(1, 120, 320)>\n",
       "    convcold_cloudnumber  (time, lat, lon) float32 dask.array<shape=(744, 120, 320), chunksize=(1, 120, 320)>\n",
       "    cloudtracknumber      (time, lat, lon) float64 dask.array<shape=(744, 120, 320), chunksize=(1, 120, 320)>\n",
       "    pcptracknumber        (time, lat, lon) float64 dask.array<shape=(744, 120, 320), chunksize=(1, 120, 320)>\n",
       "Attributes:\n",
       "    title:       Robust MCS pixel-level tracking final output data\n",
       "    comment1:    cloudtracknumber labels all cold cloud pixels identified as ...\n",
       "    comment2:    tb, precipitation are full fields, use cloudtracknumber, pcp...\n",
       "    startdate:   20010301\n",
       "    enddate:     20011031\n",
       "    contact:     Zhe Feng: zhe.feng@pnnl.gov\n",
       "    created_on:  Tue Apr 16 09:10:04 2019"
      ]
     },
     "execution_count": 20,
     "metadata": {},
     "output_type": "execute_result"
    }
   ],
   "source": [
    "ds"
   ]
  }
 ],
 "metadata": {
  "kernelspec": {
   "display_name": "spe3sm-jupyter",
   "language": "python",
   "name": "spe3sm-jupyter"
  },
  "language_info": {
   "codemirror_mode": {
    "name": "ipython",
    "version": 3
   },
   "file_extension": ".py",
   "mimetype": "text/x-python",
   "name": "python",
   "nbconvert_exporter": "python",
   "pygments_lexer": "ipython3",
   "version": "3.7.7"
  }
 },
 "nbformat": 4,
 "nbformat_minor": 4
}
