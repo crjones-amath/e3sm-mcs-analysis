{
 "cells": [
  {
   "cell_type": "markdown",
   "metadata": {},
   "source": [
    "# Provide regridded landfrac for ne120 simulations\n",
    "\n",
    "This will be used for a land/ocean mask on the regridded output"
   ]
  },
  {
   "cell_type": "code",
   "execution_count": 1,
   "metadata": {},
   "outputs": [],
   "source": [
    "%matplotlib inline\n",
    "import matplotlib.pyplot as plt\n",
    "import xarray as xr"
   ]
  },
  {
   "cell_type": "code",
   "execution_count": 2,
   "metadata": {},
   "outputs": [
    {
     "data": {
      "text/plain": [
       "<xarray.Dataset>\n",
       "Dimensions:          (ilev: 73, lat: 720, lev: 72, lon: 1440, nbnd: 2, time: 1)\n",
       "Coordinates:\n",
       "  * lat              (lat) float64 -89.88 -89.62 -89.38 ... 89.38 89.62 89.88\n",
       "  * lon              (lon) float64 0.125 0.375 0.625 0.875 ... 359.4 359.6 359.9\n",
       "  * ilev             (ilev) float64 0.1 0.1477 0.218 ... 990.5 997.0 1e+03\n",
       "  * lev              (lev) float64 0.1238 0.1828 0.2699 ... 986.2 993.8 998.5\n",
       "  * time             (time) object 0001-08-11 06:00:00\n",
       "Dimensions without coordinates: nbnd\n",
       "Data variables:\n",
       "    lat_bnds         (lat, nbnd) float64 ...\n",
       "    lon_bnds         (lon, nbnd) float64 ...\n",
       "    gw               (lat) float64 ...\n",
       "    area             (lat, lon) float64 ...\n",
       "    frac_b           (lat, lon) float64 ...\n",
       "    AEROD_v          (time, lat, lon) float32 ...\n",
       "    ANRAIN           (time, lev, lat, lon) float32 ...\n",
       "    ANSNOW           (time, lev, lat, lon) float32 ...\n",
       "    AOD400           (time, lat, lon) float32 ...\n",
       "    AOD700           (time, lat, lon) float32 ...\n",
       "    AODABS           (time, lat, lon) float32 ...\n",
       "    AODABSBC         (time, lat, lon) float32 ...\n",
       "    AODBC            (time, lat, lon) float32 ...\n",
       "    AODDUST          (time, lat, lon) float32 ...\n",
       "    AODDUST1         (time, lat, lon) float32 ...\n",
       "    AODDUST3         (time, lat, lon) float32 ...\n",
       "    AODMODE1         (time, lat, lon) float32 ...\n",
       "    AODMODE2         (time, lat, lon) float32 ...\n",
       "    AODMODE3         (time, lat, lon) float32 ...\n",
       "    AODNIR           (time, lat, lon) float32 ...\n",
       "    AODPOM           (time, lat, lon) float32 ...\n",
       "    AODSO4           (time, lat, lon) float32 ...\n",
       "    AODSOA           (time, lat, lon) float32 ...\n",
       "    AODSS            (time, lat, lon) float32 ...\n",
       "    AODUV            (time, lat, lon) float32 ...\n",
       "    AODVIS           (time, lat, lon) float32 ...\n",
       "    AQRAIN           (time, lev, lat, lon) float32 ...\n",
       "    AQSNOW           (time, lev, lat, lon) float32 ...\n",
       "    AREI             (time, lev, lat, lon) float32 ...\n",
       "    AREL             (time, lev, lat, lon) float32 ...\n",
       "    AWNC             (time, lev, lat, lon) float32 ...\n",
       "    AWNI             (time, lev, lat, lon) float32 ...\n",
       "    CCN3             (time, lev, lat, lon) float32 ...\n",
       "    CDNUMC           (time, lat, lon) float32 ...\n",
       "    CLDHGH           (time, lat, lon) float32 ...\n",
       "    CLDICE           (time, lev, lat, lon) float32 ...\n",
       "    CLDLIQ           (time, lev, lat, lon) float32 ...\n",
       "    CLDLOW           (time, lat, lon) float32 ...\n",
       "    CLDMED           (time, lat, lon) float32 ...\n",
       "    CLDTOT           (time, lat, lon) float32 ...\n",
       "    CLOUD            (time, lev, lat, lon) float32 ...\n",
       "    CLOUDTOP         (time, lev, lat, lon) float32 ...\n",
       "    CONCLD           (time, lev, lat, lon) float32 ...\n",
       "    DCQ              (time, lev, lat, lon) float32 ...\n",
       "    DTCOND           (time, lev, lat, lon) float32 ...\n",
       "    DTENDTH          (time, lat, lon) float32 ...\n",
       "    DTENDTQ          (time, lat, lon) float32 ...\n",
       "    DTV              (time, lev, lat, lon) float32 ...\n",
       "    EXTINCT          (time, lev, lat, lon) float32 ...\n",
       "    FICE             (time, lev, lat, lon) float32 ...\n",
       "    FLDS             (time, lat, lon) float32 ...\n",
       "    FLNS             (time, lat, lon) float32 ...\n",
       "    FLNSC            (time, lat, lon) float32 ...\n",
       "    FLNT             (time, lat, lon) float32 ...\n",
       "    FLNTC            (time, lat, lon) float32 ...\n",
       "    FLUT             (time, lat, lon) float32 ...\n",
       "    FLUTC            (time, lat, lon) float32 ...\n",
       "    FREQI            (time, lev, lat, lon) float32 ...\n",
       "    FREQL            (time, lev, lat, lon) float32 ...\n",
       "    FREQR            (time, lev, lat, lon) float32 ...\n",
       "    FREQS            (time, lev, lat, lon) float32 ...\n",
       "    FSDS             (time, lat, lon) float32 ...\n",
       "    FSDSC            (time, lat, lon) float32 ...\n",
       "    FSNS             (time, lat, lon) float32 ...\n",
       "    FSNSC            (time, lat, lon) float32 ...\n",
       "    FSNT             (time, lat, lon) float32 ...\n",
       "    FSNTC            (time, lat, lon) float32 ...\n",
       "    FSNTOA           (time, lat, lon) float32 ...\n",
       "    FSNTOAC          (time, lat, lon) float32 ...\n",
       "    FSUTOA           (time, lat, lon) float32 ...\n",
       "    FSUTOAC          (time, lat, lon) float32 ...\n",
       "    ICEFRAC          (time, lat, lon) float32 ...\n",
       "    ICIMR            (time, lev, lat, lon) float32 ...\n",
       "    ICWMR            (time, lev, lat, lon) float32 ...\n",
       "    IWC              (time, lev, lat, lon) float32 ...\n",
       "    LANDFRAC         (time, lat, lon) float32 ...\n",
       "    LHFLX            (time, lat, lon) float32 ...\n",
       "    LIQCLDF          (time, lev, lat, lon) float32 ...\n",
       "    LWCF             (time, lat, lon) float32 ...\n",
       "    NUMICE           (time, lev, lat, lon) float32 ...\n",
       "    NUMLIQ           (time, lev, lat, lon) float32 ...\n",
       "    NUMRAI           (time, lev, lat, lon) float32 ...\n",
       "    NUMSNO           (time, lev, lat, lon) float32 ...\n",
       "    OCNFRAC          (time, lat, lon) float32 ...\n",
       "    OMEGA            (time, lev, lat, lon) float32 ...\n",
       "    OMEGA500         (time, lat, lon) float32 ...\n",
       "    OMEGAT           (time, lev, lat, lon) float32 ...\n",
       "    P0               float64 ...\n",
       "    PBLH             (time, lat, lon) float32 ...\n",
       "    PHIS             (time, lat, lon) float32 ...\n",
       "    PRECC            (time, lat, lon) float32 ...\n",
       "    PRECL            (time, lat, lon) float32 ...\n",
       "    PRECSC           (time, lat, lon) float32 ...\n",
       "    PRECSL           (time, lat, lon) float32 ...\n",
       "    PS               (time, lat, lon) float32 ...\n",
       "    PSL              (time, lat, lon) float32 ...\n",
       "    Q                (time, lev, lat, lon) float32 ...\n",
       "    QFLX             (time, lat, lon) float32 ...\n",
       "    QREFHT           (time, lat, lon) float32 ...\n",
       "    QRL              (time, lev, lat, lon) float32 ...\n",
       "    QRS              (time, lev, lat, lon) float32 ...\n",
       "    RAINQM           (time, lev, lat, lon) float32 ...\n",
       "    RELHUM           (time, lev, lat, lon) float32 ...\n",
       "    SHFLX            (time, lat, lon) float32 ...\n",
       "    SNOWHICE         (time, lat, lon) float32 ...\n",
       "    SNOWHLND         (time, lat, lon) float32 ...\n",
       "    SNOWQM           (time, lev, lat, lon) float32 ...\n",
       "    SOLIN            (time, lat, lon) float32 ...\n",
       "    SPBUOY           (time, lev, lat, lon) float32 ...\n",
       "    SPBUOYSD         (time, lev, lat, lon) float32 ...\n",
       "    SPDQ             (time, lev, lat, lon) float32 ...\n",
       "    SPDQC            (time, lev, lat, lon) float32 ...\n",
       "    SPDQI            (time, lev, lat, lon) float32 ...\n",
       "    SPDT             (time, lev, lat, lon) float32 ...\n",
       "    SPKVH            (time, ilev, lat, lon) float32 ...\n",
       "    SPLCLOUD         (time, lev, lat, lon) float32 ...\n",
       "    SPMC             (time, lev, lat, lon) float32 ...\n",
       "    SPMCDN           (time, lev, lat, lon) float32 ...\n",
       "    SPMCUDN          (time, lev, lat, lon) float32 ...\n",
       "    SPMCUP           (time, lev, lat, lon) float32 ...\n",
       "    SPMCUUP          (time, lev, lat, lon) float32 ...\n",
       "    SPMSEF           (time, lev, lat, lon) float32 ...\n",
       "    SPNDROPCOL       (time, lat, lon) float32 ...\n",
       "    SPNDROPMIX       (time, lev, lat, lon) float32 ...\n",
       "    SPNDROPSRC       (time, lev, lat, lon) float32 ...\n",
       "    SPPFLX           (time, lev, lat, lon) float32 ...\n",
       "    SPQC             (time, lev, lat, lon) float32 ...\n",
       "    SPQG             (time, lev, lat, lon) float32 ...\n",
       "    SPQI             (time, lev, lat, lon) float32 ...\n",
       "    SPQPEVP          (time, lev, lat, lon) float32 ...\n",
       "    SPQPFALL         (time, lev, lat, lon) float32 ...\n",
       "    SPQPFLX          (time, lev, lat, lon) float32 ...\n",
       "    SPQPSRC          (time, lev, lat, lon) float32 ...\n",
       "    SPQPTR           (time, lev, lat, lon) float32 ...\n",
       "    SPQR             (time, lev, lat, lon) float32 ...\n",
       "    SPQS             (time, lev, lat, lon) float32 ...\n",
       "    SPQTFLX          (time, lev, lat, lon) float32 ...\n",
       "    SPQTFLXS         (time, lev, lat, lon) float32 ...\n",
       "    SPQTLS           (time, lev, lat, lon) float32 ...\n",
       "    SPQTTR           (time, lev, lat, lon) float32 ...\n",
       "    SPQVFLUX         (time, lev, lat, lon) float32 ...\n",
       "    SPTK             (time, lev, lat, lon) float32 ...\n",
       "    SPTKE            (time, lev, lat, lon) float32 ...\n",
       "    SPTKES           (time, lev, lat, lon) float32 ...\n",
       "    SPTLS            (time, lev, lat, lon) float32 ...\n",
       "    SPTVFLUX         (time, lev, lat, lon) float32 ...\n",
       "    SPWTKE           (time, lev, lat, lon) float32 ...\n",
       "    SSAVIS           (time, lat, lon) float32 ...\n",
       "    SWCF             (time, lat, lon) float32 ...\n",
       "    T                (time, lev, lat, lon) float32 ...\n",
       "    TAUGWX           (time, lat, lon) float32 ...\n",
       "    TAUGWY           (time, lat, lon) float32 ...\n",
       "    TAUX             (time, lat, lon) float32 ...\n",
       "    TAUY             (time, lat, lon) float32 ...\n",
       "    TGCLDCWP         (time, lat, lon) float32 ...\n",
       "    TGCLDIWP         (time, lat, lon) float32 ...\n",
       "    TGCLDLWP         (time, lat, lon) float32 ...\n",
       "    TH7001000        (time, lat, lon) float32 ...\n",
       "    TIMINGF          (time, lat, lon) float32 ...\n",
       "    TMQ              (time, lat, lon) float32 ...\n",
       "    TOT_CLD_VISTAU   (time, lev, lat, lon) float32 ...\n",
       "    TOT_ICLD_VISTAU  (time, lev, lat, lon) float32 ...\n",
       "    TREFHT           (time, lat, lon) float32 ...\n",
       "    TROP_P           (time, lat, lon) float32 ...\n",
       "    TROP_T           (time, lat, lon) float32 ...\n",
       "    TS               (time, lat, lon) float32 ...\n",
       "    TSMN             (time, lat, lon) float32 ...\n",
       "    TSMX             (time, lat, lon) float32 ...\n",
       "    TUH              (time, lat, lon) float32 ...\n",
       "    TUQ              (time, lat, lon) float32 ...\n",
       "    TVH              (time, lat, lon) float32 ...\n",
       "    TVQ              (time, lat, lon) float32 ...\n",
       "    U                (time, lev, lat, lon) float32 ...\n",
       "    U10              (time, lat, lon) float32 ...\n",
       "    UU               (time, lev, lat, lon) float32 ...\n",
       "    V                (time, lev, lat, lon) float32 ...\n",
       "    VD01             (time, lev, lat, lon) float32 ...\n",
       "    VQ               (time, lev, lat, lon) float32 ...\n",
       "    VT               (time, lev, lat, lon) float32 ...\n",
       "    VU               (time, lev, lat, lon) float32 ...\n",
       "    VV               (time, lev, lat, lon) float32 ...\n",
       "    WGUSTD           (time, lat, lon) float32 ...\n",
       "    WSUB             (time, lev, lat, lon) float32 ...\n",
       "    Z3               (time, lev, lat, lon) float32 ...\n",
       "    aero_water       (time, lev, lat, lon) float32 ...\n",
       "    ch4vmr           (time) float64 ...\n",
       "    co2vmr           (time) float64 ...\n",
       "    date             (time) int32 ...\n",
       "    date_written     (time) |S8 ...\n",
       "    datesec          (time) int32 ...\n",
       "    f11vmr           (time) float64 ...\n",
       "    f12vmr           (time) float64 ...\n",
       "    hstobie_linoz    (time, lev, lat, lon) float32 ...\n",
       "    hyai             (ilev) float64 ...\n",
       "    hyam             (lev) float64 ...\n",
       "    hybi             (ilev) float64 ...\n",
       "    hybm             (lev) float64 ...\n",
       "    mdt              int32 ...\n",
       "    n2ovmr           (time) float64 ...\n",
       "    nbdate           int32 ...\n",
       "    nbsec            int32 ...\n",
       "    ndbase           int32 ...\n",
       "    ndcur            (time) int32 ...\n",
       "    nsbase           int32 ...\n",
       "    nscur            (time) int32 ...\n",
       "    nsteph           (time) int32 ...\n",
       "    sol_tsi          (time) float64 ...\n",
       "    time_bnds        (time, nbnd) object ...\n",
       "    time_written     (time) |S8 ...\n",
       "Attributes:\n",
       "    ne:                        120\n",
       "    np:                        4\n",
       "    Conventions:               CF-1.0\n",
       "    source:                    CAM\n",
       "    case:                      earlyscience.FC5AV1C-H01A.ne120.sp1_64x1_1000m...\n",
       "    title:                     UNSET\n",
       "    logname:                   hannah6\n",
       "    host:                      \n",
       "    Version:                   $Name$\n",
       "    revision_Id:               $Id$\n",
       "    initial_file:              /gpfs/alpine/world-shared/csc190/e3sm/cesm/inp...\n",
       "    topography_file:           /gpfs/alpine/world-shared/csc190/e3sm/cesm/inp...\n",
       "    time_period_freq:          month_1\n",
       "    history:                   Wed Apr  3 15:02:44 2019: ncks -t 1 -O --no_tm...\n",
       "    climo_script:              ncclimo\n",
       "    climo_command:             '/global/homes/z/zender/bin_cori/ncclimo -p mp...\n",
       "    climo_hostname:            cori02\n",
       "    climo_version:             4.8.0-alpha05\n",
       "    yrs_averaged:              0001\n",
       "    NCO:                       netCDF Operators version 4.7.4 (http://nco.sf....\n",
       "    nco_openmp_thread_number:  1\n",
       "    map_file:                  /global/homes/z/zender/data/maps/map_ne120np4_...\n",
       "    input_file:                earlyscience.FC5AV1C-H01A.ne120.sp1_64x1_1000m..."
      ]
     },
     "execution_count": 2,
     "metadata": {},
     "output_type": "execute_result"
    }
   ],
   "source": [
    "ds = xr.open_dataset('/global/project/projectdirs/m3312/crjones/e3sm/early_science/monthly_hist/clim_rgr/0001-0001/earlyscience.FC5AV1C-H01A.ne120.sp1_64x1_1000m_ANN_000101_000112_climo.nc')\n",
    "ds"
   ]
  },
  {
   "cell_type": "code",
   "execution_count": 4,
   "metadata": {},
   "outputs": [],
   "source": [
    "da = ds['LANDFRAC'].squeeze().drop('time')"
   ]
  },
  {
   "cell_type": "code",
   "execution_count": 5,
   "metadata": {},
   "outputs": [
    {
     "data": {
      "text/plain": [
       "<xarray.DataArray 'LANDFRAC' (lat: 720, lon: 1440)>\n",
       "[1036800 values with dtype=float32]\n",
       "Coordinates:\n",
       "  * lat      (lat) float64 -89.88 -89.62 -89.38 -89.12 ... 89.38 89.62 89.88\n",
       "  * lon      (lon) float64 0.125 0.375 0.625 0.875 ... 359.1 359.4 359.6 359.9\n",
       "Attributes:\n",
       "    units:          fraction\n",
       "    long_name:      Fraction of sfc area covered by land\n",
       "    cell_methods:   time: mean\n",
       "    cell_measures:  area: area"
      ]
     },
     "execution_count": 5,
     "metadata": {},
     "output_type": "execute_result"
    }
   ],
   "source": [
    "da"
   ]
  },
  {
   "cell_type": "code",
   "execution_count": 15,
   "metadata": {},
   "outputs": [
    {
     "data": {
      "text/plain": [
       "(array([668151.,   3838.,   3359.,   3084.,   2752.,   2854.,   3181.,\n",
       "          3027.,   3808., 342746.]),\n",
       " array([0. , 0.1, 0.2, 0.3, 0.4, 0.5, 0.6, 0.7, 0.8, 0.9, 1. ],\n",
       "       dtype=float32),\n",
       " <a list of 10 Patch objects>)"
      ]
     },
     "execution_count": 15,
     "metadata": {},
     "output_type": "execute_result"
    },
    {
     "data": {
      "image/png": "[encoded data removed]",
      "text/plain": [
       "<Figure size 432x288 with 1 Axes>"
      ]
     },
     "metadata": {
      "needs_background": "light"
     },
     "output_type": "display_data"
    }
   ],
   "source": [
    "da.plot.hist()"
   ]
  },
  {
   "cell_type": "code",
   "execution_count": 16,
   "metadata": {},
   "outputs": [
    {
     "data": {
      "text/plain": [
       "<matplotlib.collections.QuadMesh at 0x2aaae3d990b8>"
      ]
     },
     "execution_count": 16,
     "metadata": {},
     "output_type": "execute_result"
    },
    {
     "data": {
      "image/png": "[encoded data removed]",
      "text/plain": [
       "<Figure size 432x288 with 2 Axes>"
      ]
     },
     "metadata": {
      "needs_background": "light"
     },
     "output_type": "display_data"
    }
   ],
   "source": [
    "da.plot()"
   ]
  },
  {
   "cell_type": "code",
   "execution_count": 6,
   "metadata": {},
   "outputs": [
    {
     "data": {
      "text/plain": [
       "OrderedDict([('case',\n",
       "              'earlyscience.FC5AV1C-H01A.ne120.sp1_64x1_1000m.20190222'),\n",
       "             ('map_file',\n",
       "              '/global/homes/z/zender/data/maps/map_ne120np4_to_cmip6_720x1440_aave.20181001.nc'),\n",
       "             ('input_file',\n",
       "              'earlyscience.FC5AV1C-H01A.ne120.sp1_64x1_1000m_ANN_000101_000112_climo.nc')])"
      ]
     },
     "execution_count": 6,
     "metadata": {},
     "output_type": "execute_result"
    }
   ],
   "source": [
    "ds_out = da.to_dataset()\n",
    "ds_out.attrs.update({k: ds.attrs[k] for k in ['case', 'map_file', 'input_file']})\n",
    "ds_out.attrs"
   ]
  },
  {
   "cell_type": "code",
   "execution_count": 24,
   "metadata": {},
   "outputs": [
    {
     "data": {
      "text/plain": [
       "OrderedDict([('units', 'fraction'),\n",
       "             ('long_name', 'Fraction of sfc area covered by land'),\n",
       "             ('cell_methods', 'time: mean'),\n",
       "             ('cell_measures', 'area: area'),\n",
       "             ('case',\n",
       "              'earlyscience.FC5AV1C-H01A.ne120.sp1_64x1_1000m.20190222'),\n",
       "             ('map_file',\n",
       "              '/global/homes/z/zender/data/maps/map_ne120np4_to_cmip6_720x1440_aave.20181001.nc'),\n",
       "             ('input_file',\n",
       "              'earlyscience.FC5AV1C-H01A.ne120.sp1_64x1_1000m_ANN_000101_000112_climo.nc')])"
      ]
     },
     "execution_count": 24,
     "metadata": {},
     "output_type": "execute_result"
    }
   ],
   "source": [
    "# write landfrac to netcdf\n",
    "# note: it would be better to write these to the dataset instead\n",
    "# da.attrs.update({k: ds.attrs[k] for k in ['case', 'map_file', 'input_file']})\n",
    "# da.attrs"
   ]
  },
  {
   "cell_type": "code",
   "execution_count": 7,
   "metadata": {},
   "outputs": [],
   "source": [
    "ds_out.to_netcdf('/global/project/projectdirs/m3312/crjones/e3sm/early_science/ne120_landfrac_720x1440.nc', mode='w')"
   ]
  },
  {
   "cell_type": "code",
   "execution_count": 8,
   "metadata": {},
   "outputs": [
    {
     "data": {
      "text/plain": [
       "<xarray.Dataset>\n",
       "Dimensions:   (lat: 720, lon: 1440)\n",
       "Coordinates:\n",
       "  * lat       (lat) float64 -89.88 -89.62 -89.38 -89.12 ... 89.38 89.62 89.88\n",
       "  * lon       (lon) float64 0.125 0.375 0.625 0.875 ... 359.1 359.4 359.6 359.9\n",
       "Data variables:\n",
       "    LANDFRAC  (lat, lon) float32 ...\n",
       "Attributes:\n",
       "    case:        earlyscience.FC5AV1C-H01A.ne120.sp1_64x1_1000m.20190222\n",
       "    map_file:    /global/homes/z/zender/data/maps/map_ne120np4_to_cmip6_720x1...\n",
       "    input_file:  earlyscience.FC5AV1C-H01A.ne120.sp1_64x1_1000m_ANN_000101_00..."
      ]
     },
     "execution_count": 8,
     "metadata": {},
     "output_type": "execute_result"
    }
   ],
   "source": [
    "ds = xr.open_dataset('/global/project/projectdirs/m3312/crjones/e3sm/early_science/ne120_landfrac_720x1440.nc')\n",
    "ds"
   ]
  },
  {
   "cell_type": "code",
   "execution_count": 9,
   "metadata": {},
   "outputs": [
    {
     "data": {
      "text/plain": [
       "OrderedDict([('units', 'fraction'),\n",
       "             ('long_name', 'Fraction of sfc area covered by land'),\n",
       "             ('cell_methods', 'time: mean'),\n",
       "             ('cell_measures', 'area: area')])"
      ]
     },
     "execution_count": 9,
     "metadata": {},
     "output_type": "execute_result"
    }
   ],
   "source": [
    "ds['LANDFRAC'].attrs"
   ]
  },
  {
   "cell_type": "code",
   "execution_count": null,
   "metadata": {},
   "outputs": [],
   "source": []
  }
 ],
 "metadata": {
  "kernelspec": {
   "display_name": "spe3sm-jupyter",
   "language": "python",
   "name": "spe3sm-jupyter"
  },
  "language_info": {
   "codemirror_mode": {
    "name": "ipython",
    "version": 3
   },
   "file_extension": ".py",
   "mimetype": "text/x-python",
   "name": "python",
   "nbconvert_exporter": "python",
   "pygments_lexer": "ipython3",
   "version": "3.7.7"
  }
 },
 "nbformat": 4,
 "nbformat_minor": 4
}
