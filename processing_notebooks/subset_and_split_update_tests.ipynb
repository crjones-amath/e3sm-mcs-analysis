{
 "cells": [
  {
   "cell_type": "code",
   "execution_count": 1,
   "metadata": {},
   "outputs": [],
   "source": [
    "%matplotlib inline\n",
    "import matplotlib.pyplot as plt"
   ]
  },
  {
   "cell_type": "code",
   "execution_count": 2,
   "metadata": {},
   "outputs": [],
   "source": [
    "\"\"\"Split a series of netcdf\"\"\"\n",
    "import xarray as xr\n",
    "import pandas as pd\n",
    "from datetime import timedelta\n",
    "# from dask_jobqueue import SLURMCluster\n",
    "# from dask.distributed import Client, LocalCluster, progress\n",
    "from glob import glob\n",
    "import os\n",
    "from concurrent.futures import ProcessPoolExecutor\n",
    "\n",
    "input_dir = '/global/cscratch1/sd/sbaldwin/highres_continuation/hourly_720x1440/'\n",
    "output_dir = '/global/cscratch1/sd/crjones/highres_continuation/hourly_720x1400/'\n",
    "input_dir_tmp = output_dir + 'tmp/'"
   ]
  },
  {
   "cell_type": "code",
   "execution_count": 4,
   "metadata": {},
   "outputs": [],
   "source": [
    "ds_land = xr.open_dataset('/global/cscratch1/sd/crjones/highres_continuation/ne120_landfrac_720x1440.nc')"
   ]
  },
  {
   "cell_type": "code",
   "execution_count": 6,
   "metadata": {},
   "outputs": [],
   "source": [
    "def subset_to_conus(ds, lons=[220, 300], lats=[20, 50],\n",
    "                    transpose_dims=True, shift_time=True):\n",
    "    ds_out = ds.sel(lat=slice(*lats), lon=slice(*lons))\n",
    "    if shift_time:\n",
    "        ds_out['time'] = ds_out['time'] + timedelta(days=365 * 2000)\n",
    "    if transpose_dims:\n",
    "        ds_out.transpose(*('time', 'lat', 'lon', 'nbnd'))\n",
    "    return ds_out"
   ]
  },
  {
   "cell_type": "code",
   "execution_count": 7,
   "metadata": {},
   "outputs": [],
   "source": [
    "ds_land_conus = subset_to_conus(ds_land, transpose_dims=False, shift_time=False)"
   ]
  },
  {
   "cell_type": "code",
   "execution_count": 8,
   "metadata": {},
   "outputs": [
    {
     "data": {
      "text/plain": [
       "<xarray.Dataset>\n",
       "Dimensions:   (lat: 120, lon: 320)\n",
       "Coordinates:\n",
       "  * lat       (lat) float64 20.12 20.38 20.62 20.88 ... 49.12 49.38 49.62 49.88\n",
       "  * lon       (lon) float64 220.1 220.4 220.6 220.9 ... 299.1 299.4 299.6 299.9\n",
       "Data variables:\n",
       "    LANDFRAC  (lat, lon) float32 ...\n",
       "Attributes:\n",
       "    case:        earlyscience.FC5AV1C-H01A.ne120.sp1_64x1_1000m.20190222\n",
       "    map_file:    /global/homes/z/zender/data/maps/map_ne120np4_to_cmip6_720x1...\n",
       "    input_file:  earlyscience.FC5AV1C-H01A.ne120.sp1_64x1_1000m_ANN_000101_00..."
      ]
     },
     "execution_count": 8,
     "metadata": {},
     "output_type": "execute_result"
    }
   ],
   "source": [
    "ds_land_conus"
   ]
  },
  {
   "cell_type": "code",
   "execution_count": 9,
   "metadata": {},
   "outputs": [],
   "source": [
    "ds_land_conus.to_netcdf('/global/cscratch1/sd/crjones/highres_continuation/ne120_landfrac_720x1440.CONUS.nc')"
   ]
  },
  {
   "cell_type": "code",
   "execution_count": null,
   "metadata": {},
   "outputs": [],
   "source": [
    "f_in = glob(f'{input_dir}*.nc')\n",
    "ds0 = xr.open_dataset(f_in[0])"
   ]
  },
  {
   "cell_type": "code",
   "execution_count": null,
   "metadata": {},
   "outputs": [],
   "source": [
    "ds0.attrs"
   ]
  },
  {
   "cell_type": "code",
   "execution_count": 168,
   "metadata": {},
   "outputs": [],
   "source": [
    "def shift_time(ds, years=-100):\n",
    "    ds['time'] = ds['time'] + timedelta(days=365 * years)\n",
    "\n",
    "def start_date(ds):\n",
    "    return ds.time[0].item().strftime('%Y-%m-%d')\n",
    "\n",
    "def shift_and_write(file_in, years=-100, write_file=False):\n",
    "    \"\"\"Shifts file by n-years, changes file-name and writes to same directory\"\"\"\n",
    "    with xr.open_dataset(file_in) as ds:\n",
    "        original_start_date = start_date(ds)\n",
    "        shift_time(ds, years=years)\n",
    "        new_start_date = start_date(ds)\n",
    "        file_out = file_in.replace(original_start_date, new_start_date)\n",
    "        encoding = {v: {'zlib': True, 'complevel': 6} for v in ds}\n",
    "        print('Input file:  ', file_in)\n",
    "        print('Original date:  ', original_start_date)\n",
    "        print('Output file:  ', file_out)\n",
    "        print('New date:  ', new_start_date)\n",
    "        print('\\n')        \n",
    "        if write_file:\n",
    "            ds.to_netcdf(file_out, encoding=encoding)"
   ]
  },
  {
   "cell_type": "code",
   "execution_count": 169,
   "metadata": {},
   "outputs": [
    {
     "name": "stdout",
     "output_type": "stream",
     "text": [
      "Input file:   /global/cscratch1/sd/crjones/highres_continuation/hourly_720x1400/theta.20190910.branch_noCNT.n438b.unc03.A_WCYCL1950S_CMIP6_HR.ne120_oRRS18v3_ICG.cam.h5.2076-11-20.CONUS.nc\n",
      "Original date:   2076-11-20\n",
      "Output file:   /global/cscratch1/sd/crjones/highres_continuation/hourly_720x1400/theta.20190910.branch_noCNT.n438b.unc03.A_WCYCL1950S_CMIP6_HR.ne120_oRRS18v3_ICG.cam.h5.1976-11-20.CONUS.nc\n",
      "New date:   1976-11-20\n",
      "\n",
      "\n",
      "Input file:   /global/cscratch1/sd/crjones/highres_continuation/hourly_720x1400/theta.20190910.branch_noCNT.n438b.unc03.A_WCYCL1950S_CMIP6_HR.ne120_oRRS18v3_ICG.cam.h5.2068-07-03.CONUS.nc\n",
      "Original date:   2068-07-03\n",
      "Output file:   /global/cscratch1/sd/crjones/highres_continuation/hourly_720x1400/theta.20190910.branch_noCNT.n438b.unc03.A_WCYCL1950S_CMIP6_HR.ne120_oRRS18v3_ICG.cam.h5.1968-07-03.CONUS.nc\n",
      "New date:   1968-07-03\n",
      "\n",
      "\n",
      "Input file:   /global/cscratch1/sd/crjones/highres_continuation/hourly_720x1400/theta.20190910.branch_noCNT.n438b.unc03.A_WCYCL1950S_CMIP6_HR.ne120_oRRS18v3_ICG.cam.h5.2075-10-26.CONUS.nc\n",
      "Original date:   2075-10-26\n",
      "Output file:   /global/cscratch1/sd/crjones/highres_continuation/hourly_720x1400/theta.20190910.branch_noCNT.n438b.unc03.A_WCYCL1950S_CMIP6_HR.ne120_oRRS18v3_ICG.cam.h5.1975-10-26.CONUS.nc\n",
      "New date:   1975-10-26\n",
      "\n",
      "\n",
      "Input file:   /global/cscratch1/sd/crjones/highres_continuation/hourly_720x1400/theta.20190910.branch_noCNT.n438b.unc03.A_WCYCL1950S_CMIP6_HR.ne120_oRRS18v3_ICG.cam.h5.2076-07-19.CONUS.nc\n",
      "Original date:   2076-07-19\n",
      "Output file:   /global/cscratch1/sd/crjones/highres_continuation/hourly_720x1400/theta.20190910.branch_noCNT.n438b.unc03.A_WCYCL1950S_CMIP6_HR.ne120_oRRS18v3_ICG.cam.h5.1976-07-19.CONUS.nc\n",
      "New date:   1976-07-19\n",
      "\n",
      "\n",
      "Input file:   /global/cscratch1/sd/crjones/highres_continuation/hourly_720x1400/theta.20190910.branch_noCNT.n438b.unc03.A_WCYCL1950S_CMIP6_HR.ne120_oRRS18v3_ICG.cam.h5.2058-04-25.CONUS.nc\n",
      "Original date:   2058-04-25\n",
      "Output file:   /global/cscratch1/sd/crjones/highres_continuation/hourly_720x1400/theta.20190910.branch_noCNT.n438b.unc03.A_WCYCL1950S_CMIP6_HR.ne120_oRRS18v3_ICG.cam.h5.1958-04-25.CONUS.nc\n",
      "New date:   1958-04-25\n",
      "\n",
      "\n",
      "Input file:   /global/cscratch1/sd/crjones/highres_continuation/hourly_720x1400/theta.20190910.branch_noCNT.n438b.unc03.A_WCYCL1950S_CMIP6_HR.ne120_oRRS18v3_ICG.cam.h5.2061-04-18.CONUS.nc\n",
      "Original date:   2061-04-18\n",
      "Output file:   /global/cscratch1/sd/crjones/highres_continuation/hourly_720x1400/theta.20190910.branch_noCNT.n438b.unc03.A_WCYCL1950S_CMIP6_HR.ne120_oRRS18v3_ICG.cam.h5.1961-04-18.CONUS.nc\n",
      "New date:   1961-04-18\n",
      "\n",
      "\n",
      "Input file:   /global/cscratch1/sd/crjones/highres_continuation/hourly_720x1400/theta.20190910.branch_noCNT.n438b.unc03.A_WCYCL1950S_CMIP6_HR.ne120_oRRS18v3_ICG.cam.h5.2066-09-07.CONUS.nc\n",
      "Original date:   2066-09-07\n",
      "Output file:   /global/cscratch1/sd/crjones/highres_continuation/hourly_720x1400/theta.20190910.branch_noCNT.n438b.unc03.A_WCYCL1950S_CMIP6_HR.ne120_oRRS18v3_ICG.cam.h5.1966-09-07.CONUS.nc\n",
      "New date:   1966-09-07\n",
      "\n",
      "\n",
      "Input file:   /global/cscratch1/sd/crjones/highres_continuation/hourly_720x1400/theta.20190910.branch_noCNT.n438b.unc03.A_WCYCL1950S_CMIP6_HR.ne120_oRRS18v3_ICG.cam.h5.2063-02-24.CONUS.nc\n",
      "Original date:   2063-02-24\n",
      "Output file:   /global/cscratch1/sd/crjones/highres_continuation/hourly_720x1400/theta.20190910.branch_noCNT.n438b.unc03.A_WCYCL1950S_CMIP6_HR.ne120_oRRS18v3_ICG.cam.h5.1963-02-24.CONUS.nc\n",
      "New date:   1963-02-24\n",
      "\n",
      "\n",
      "Input file:   /global/cscratch1/sd/crjones/highres_continuation/hourly_720x1400/theta.20190910.branch_noCNT.n438b.unc03.A_WCYCL1950S_CMIP6_HR.ne120_oRRS18v3_ICG.cam.h5.2065-05-23.CONUS.nc\n",
      "Original date:   2065-05-23\n",
      "Output file:   /global/cscratch1/sd/crjones/highres_continuation/hourly_720x1400/theta.20190910.branch_noCNT.n438b.unc03.A_WCYCL1950S_CMIP6_HR.ne120_oRRS18v3_ICG.cam.h5.1965-05-23.CONUS.nc\n",
      "New date:   1965-05-23\n",
      "\n",
      "\n",
      "Input file:   /global/cscratch1/sd/crjones/highres_continuation/hourly_720x1400/theta.20190910.branch_noCNT.n438b.unc03.A_WCYCL1950S_CMIP6_HR.ne120_oRRS18v3_ICG.cam.h5.2058-02-14.CONUS.nc\n",
      "Original date:   2058-02-14\n",
      "Output file:   /global/cscratch1/sd/crjones/highres_continuation/hourly_720x1400/theta.20190910.branch_noCNT.n438b.unc03.A_WCYCL1950S_CMIP6_HR.ne120_oRRS18v3_ICG.cam.h5.1958-02-14.CONUS.nc\n",
      "New date:   1958-02-14\n",
      "\n",
      "\n"
     ]
    }
   ],
   "source": [
    "for file_in in glob(f'{output_dir}*.nc')[0:10]:\n",
    "    shift_and_write(file_in, years=-100, write_file=False)"
   ]
  },
  {
   "cell_type": "code",
   "execution_count": 162,
   "metadata": {},
   "outputs": [],
   "source": [
    "def shift_time(ds, years=-100):\n",
    "    ds['time'] = ds['time'] + timedelta(days=365 * years)"
   ]
  },
  {
   "cell_type": "code",
   "execution_count": 165,
   "metadata": {},
   "outputs": [
    {
     "name": "stdout",
     "output_type": "stream",
     "text": [
      "<xarray.DataArray 'time' (time: 720)>\n",
      "array([cftime.DatetimeNoLeap(1966, 1, 1, 1, 0, 0, 0, 6, 1),\n",
      "       cftime.DatetimeNoLeap(1966, 1, 1, 1, 59, 59, 999999, 6, 1),\n",
      "       cftime.DatetimeNoLeap(1966, 1, 1, 3, 0, 0, 0, 6, 1), ...,\n",
      "       cftime.DatetimeNoLeap(1966, 1, 30, 22, 0, 0, 0, 0, 30),\n",
      "       cftime.DatetimeNoLeap(1966, 1, 30, 22, 59, 59, 999999, 0, 30),\n",
      "       cftime.DatetimeNoLeap(1966, 1, 31, 0, 0, 0, 0, 1, 31)], dtype=object)\n",
      "Coordinates:\n",
      "  * time     (time) object 1966-01-01 01:00:00 ... 1966-01-31 00:00:00\n"
     ]
    }
   ],
   "source": [
    "shift_time(ds, 20)\n",
    "print(ds['time'])"
   ]
  },
  {
   "cell_type": "code",
   "execution_count": 158,
   "metadata": {},
   "outputs": [],
   "source": [
    "ds['time'] = ds['time'] + timedelta(days=365*2000)"
   ]
  },
  {
   "cell_type": "code",
   "execution_count": 161,
   "metadata": {},
   "outputs": [
    {
     "data": {
      "text/plain": [
       "<xarray.DataArray 'time' (time: 720)>\n",
       "array([cftime.DatetimeNoLeap(1906, 1, 1, 1, 0, 0, 0, 2, 1),\n",
       "       cftime.DatetimeNoLeap(1906, 1, 1, 1, 59, 59, 999999, 2, 1),\n",
       "       cftime.DatetimeNoLeap(1906, 1, 1, 3, 0, 0, 0, 2, 1), ...,\n",
       "       cftime.DatetimeNoLeap(1906, 1, 30, 22, 0, 0, 0, 3, 30),\n",
       "       cftime.DatetimeNoLeap(1906, 1, 30, 22, 59, 59, 999999, 3, 30),\n",
       "       cftime.DatetimeNoLeap(1906, 1, 31, 0, 0, 0, 0, 4, 31)], dtype=object)\n",
       "Coordinates:\n",
       "  * time     (time) object 1906-01-01 01:00:00 ... 1906-01-31 00:00:00"
      ]
     },
     "execution_count": 161,
     "metadata": {},
     "output_type": "execute_result"
    }
   ],
   "source": [
    "ds['time'] = ds['time'] + timedelta(days=365*(-100))\n",
    "ds['time']"
   ]
  },
  {
   "cell_type": "code",
   "execution_count": 13,
   "metadata": {},
   "outputs": [],
   "source": [
    "def preprocess_last_times(flist):\n",
    "    fnames = flist[:-1]\n",
    "    fouts = flist[1:]\n",
    "    for fname_in, ftemp_out in zip(fnames, fouts):\n",
    "        file_name = os.path.split(ftemp_out)[-1]\n",
    "        fname_out = f'{output_dir}{file_name.replace(\"-03600.nc\", \"-00000.nc\")}'\n",
    "        print(fname_in)\n",
    "        print(fname_out)\n",
    "        with xr.open_datset(fname_in) as ds:\n",
    "            ds.isel(time=-1).to_netcdf(fname_out)"
   ]
  },
  {
   "cell_type": "code",
   "execution_count": 141,
   "metadata": {},
   "outputs": [],
   "source": [
    "ds_a = xr.open_dataset(files_to_process[1])\n",
    "ds_b = xr.open_dataset('/global/cscratch1/sd/crjones/highres_continuation/hourly_720x1400/theta.20190910.branch_noCNT.n438b.unc03.A_WCYCL1950S_CMIP6_HR.ne120_oRRS18v3_ICG.cam.h5.2056-02-15.CONUS.nc')"
   ]
  },
  {
   "cell_type": "code",
   "execution_count": 148,
   "metadata": {},
   "outputs": [
    {
     "data": {
      "text/plain": [
       "<matplotlib.collections.QuadMesh at 0x2aabfea81750>"
      ]
     },
     "execution_count": 148,
     "metadata": {},
     "output_type": "execute_result"
    },
    {
     "data": {
      "image/png": "[encoded data removed]",
      "text/plain": [
       "<Figure size 432x288 with 2 Axes>"
      ]
     },
     "metadata": {
      "needs_background": "light"
     },
     "output_type": "display_data"
    }
   ],
   "source": [
    "ds_a['PRECT'].sel(time='0056-02-15').sel(lon=slice(220, 300), lat=slice(20, 50)).mean(dim='time').plot()"
   ]
  },
  {
   "cell_type": "code",
   "execution_count": 149,
   "metadata": {},
   "outputs": [
    {
     "data": {
      "text/plain": [
       "<matplotlib.collections.QuadMesh at 0x2aabfca54890>"
      ]
     },
     "execution_count": 149,
     "metadata": {},
     "output_type": "execute_result"
    },
    {
     "data": {
      "image/png": "[encoded data removed]",
      "text/plain": [
       "<Figure size 432x288 with 2 Axes>"
      ]
     },
     "metadata": {
      "needs_background": "light"
     },
     "output_type": "display_data"
    }
   ],
   "source": [
    "ds_b['PRECT'].mean(dim='time').plot()"
   ]
  },
  {
   "cell_type": "code",
   "execution_count": 150,
   "metadata": {},
   "outputs": [],
   "source": [
    "da = ds_a['PRECT'].sel(time='0056-02-15').sel(lon=slice(220, 300), lat=slice(20, 50)).mean(dim='time')\n",
    "db = ds_b['PRECT'].mean(dim='time')"
   ]
  },
  {
   "cell_type": "code",
   "execution_count": 155,
   "metadata": {},
   "outputs": [],
   "source": [
    "import numpy as np"
   ]
  },
  {
   "cell_type": "code",
   "execution_count": 156,
   "metadata": {},
   "outputs": [
    {
     "data": {
      "text/plain": [
       "<xarray.DataArray 'PRECT' ()>\n",
       "array(True)"
      ]
     },
     "execution_count": 156,
     "metadata": {},
     "output_type": "execute_result"
    }
   ],
   "source": [
    "np.all(da == db)"
   ]
  },
  {
   "cell_type": "code",
   "execution_count": 95,
   "metadata": {},
   "outputs": [],
   "source": [
    "def select_dates(ds, nsamples=24):\n",
    "    start_date = ds.time[0].item().strftime('%Y-%m-%d')\n",
    "    end_date = ds.time[-1].item().strftime('%Y-%m-%d')\n",
    "    the_dates = pd.date_range(start_date, end_date)\n",
    "    the_dates = [d.strftime('%Y-%m-%d') for d in the_dates]\n",
    "    return [d for d in the_dates if '-02-29' not in d and len(ds.sel(time=d).time) == nsamples]"
   ]
  },
  {
   "cell_type": "code",
   "execution_count": 96,
   "metadata": {},
   "outputs": [
    {
     "data": {
      "text/plain": [
       "['2056-01-31',\n",
       " '2056-02-01',\n",
       " '2056-02-02',\n",
       " '2056-02-03',\n",
       " '2056-02-04',\n",
       " '2056-02-05',\n",
       " '2056-02-06',\n",
       " '2056-02-07',\n",
       " '2056-02-08',\n",
       " '2056-02-09',\n",
       " '2056-02-10',\n",
       " '2056-02-11',\n",
       " '2056-02-12',\n",
       " '2056-02-13',\n",
       " '2056-02-14',\n",
       " '2056-02-15',\n",
       " '2056-02-16',\n",
       " '2056-02-17',\n",
       " '2056-02-18',\n",
       " '2056-02-19',\n",
       " '2056-02-20',\n",
       " '2056-02-21',\n",
       " '2056-02-22',\n",
       " '2056-02-23',\n",
       " '2056-02-24',\n",
       " '2056-02-25',\n",
       " '2056-02-26',\n",
       " '2056-02-27',\n",
       " '2056-02-28',\n",
       " '2056-03-01']"
      ]
     },
     "execution_count": 96,
     "metadata": {},
     "output_type": "execute_result"
    }
   ],
   "source": [
    "select_dates(ds1)"
   ]
  },
  {
   "cell_type": "code",
   "execution_count": 58,
   "metadata": {},
   "outputs": [],
   "source": [
    "def output_name(file_in, new_date, add_conus=True):\n",
    "    file_parts = file_in.split('.')\n",
    "    # date is second to last\n",
    "    file_parts[-2] = new_date\n",
    "    if add_conus:\n",
    "        file_parts[-1] = 'CONUS.nc'\n",
    "    return '.'.join(file_parts)"
   ]
  },
  {
   "cell_type": "code",
   "execution_count": 62,
   "metadata": {},
   "outputs": [
    {
     "data": {
      "text/plain": [
       "'theta.20190910.branch_noCNT.n438b.unc03.A_WCYCL1950S_CMIP6_HR.ne120_oRRS18v3_ICG.cam.h5.2056-07-01.CONUS.nc'"
      ]
     },
     "execution_count": 62,
     "metadata": {},
     "output_type": "execute_result"
    }
   ],
   "source": [
    "output_name(file_name, '2056-07-01')"
   ]
  },
  {
   "cell_type": "code",
   "execution_count": 53,
   "metadata": {},
   "outputs": [],
   "source": [
    "the_dates = select_dates(dsx)"
   ]
  },
  {
   "cell_type": "code",
   "execution_count": 32,
   "metadata": {},
   "outputs": [],
   "source": [
    "def subset_to_conus(ds, lons=[220, 300], lats=[20, 50],\n",
    "                    transpose_dims=True, shift_time=True):\n",
    "    ds_out = ds.sel(lat=slice(*lats), lon=slice(*lons))\n",
    "    if shift_time:\n",
    "        ds_out['time'] = ds_out['time'] + timedelta(days=365 * 2000)\n",
    "    if transpose_dims:\n",
    "        ds_out.transpose(*('time', 'lat', 'lon', 'nbnd'))\n",
    "    return ds_out\n",
    "\n",
    "# branch runs start at 03600 -- need to grab 00:00:00 from earlier file\n",
    "\n",
    "\n",
    "def subset_and_write_to_file(fname, lons=[220, 300], lats=[20, 50],\n",
    "                             transpose_dims=True, shift_time=True):\n",
    "    print('Processing file ', fname)\n",
    "    _, file_in = os.path.split(fname)  # get just the file name\n",
    "    fout = f'{output_dir}{file_in.replace(\".nc\", \".CONUS.nc\")}'\n",
    "    print('Output file ', fout)\n",
    "    \n",
    "    # subset in space\n",
    "    # ds = xr.open_dataset(fname).sel(lat=slice(*lats), lon=slice(*lons))\n",
    "    # if shift_time:\n",
    "    #     ds['time'] = ds['time'] + timedelta(days=365 * 2000)\n",
    "    #     fout = fout.replace('h1.000', 'h1.200')\n",
    "    # if transpose_dims:\n",
    "    #     ds.transpose(*('time', 'lat', 'lon')).to_netcdf(fout)\n",
    "    # else:\n",
    "    #    ds.to_netcdf(fout)\n",
    "\n",
    "def main(do_parallel=False):\n",
    "    files_to_process = glob(f'{input_dir}*.nc')\n",
    "    print(*sorted(files_to_process), sep='\\n')\n",
    "\n",
    "    if not do_parallel:\n",
    "        subset_and_write_to_file(files_to_process[0])\n",
    "\n",
    "    # dates_to_process given as 'yyyy-mm-dd'\n",
    "    if do_parallel:\n",
    "        with ProcessPoolExecutor(max_workers=8) as Executor:\n",
    "            Executor.map(subset_and_write_to_file, files_to_process)"
   ]
  },
  {
   "cell_type": "code",
   "execution_count": 87,
   "metadata": {},
   "outputs": [],
   "source": [
    "def load_file_test(f1, test=False):\n",
    "    file_name = os.path.split(f1)[-1]\n",
    "    f0 = input_dir_tmp + file_name.replace('-03600.nc', '-00000.nc')\n",
    "    with (xr.open_mfdataset([f0, f1], data_vars='minimal') if os.path.isfile(f0) else xr.open_dataset(f1)) as ds:\n",
    "        dsx = subset_to_conus(ds, transpose_dims=False).load()\n",
    "    return dsx"
   ]
  },
  {
   "cell_type": "code",
   "execution_count": 89,
   "metadata": {},
   "outputs": [
    {
     "data": {
      "text/plain": [
       "<xarray.DataArray 'time' (time: 721)>\n",
       "array([cftime.DatetimeNoLeap(2056, 1, 31, 0, 0, 0, 0, 0, 31),\n",
       "       cftime.DatetimeNoLeap(2056, 1, 31, 1, 0, 0, 0, 0, 31),\n",
       "       cftime.DatetimeNoLeap(2056, 1, 31, 1, 59, 59, 999999, 0, 31), ...,\n",
       "       cftime.DatetimeNoLeap(2056, 3, 1, 22, 0, 0, 0, 1, 60),\n",
       "       cftime.DatetimeNoLeap(2056, 3, 1, 22, 59, 59, 999999, 1, 60),\n",
       "       cftime.DatetimeNoLeap(2056, 3, 2, 0, 0, 0, 0, 2, 61)], dtype=object)\n",
       "Coordinates:\n",
       "  * time     (time) object 2056-01-31 00:00:00 ... 2056-03-02 00:00:00"
      ]
     },
     "execution_count": 89,
     "metadata": {},
     "output_type": "execute_result"
    }
   ],
   "source": [
    "ds1 = load_file_test(files_to_process[1])\n",
    "ds1.time"
   ]
  },
  {
   "cell_type": "code",
   "execution_count": 136,
   "metadata": {},
   "outputs": [],
   "source": [
    "def split_subset_and_write(f1, test=False):\n",
    "    file_name = os.path.split(f1)[-1]\n",
    "    f0 = input_dir_tmp + file_name.replace('-03600.nc', '-00000.nc')\n",
    "    with (xr.open_mfdataset([f0, f1], data_vars='minimal') if os.path.isfile(f0) else xr.open_dataset(f1)) as ds:\n",
    "        dsx = subset_to_conus(ds, transpose_dims=False).load()\n",
    "    the_dates = select_dates(dsx)\n",
    "    # if test:\n",
    "    print(dsx)\n",
    "    print(the_dates)\n",
    "    encoding = {v: {'zlib': True, 'complevel': 6} for v in dsx}\n",
    "    for date in the_dates:\n",
    "        if test:\n",
    "            print(output_dir + output_name(file_name, date))\n",
    "        else:\n",
    "            dsx.sel(time=date).to_netcdf(output_dir + output_name(file_name, date), mode='w', encoding=encoding)"
   ]
  },
  {
   "cell_type": "code",
   "execution_count": 137,
   "metadata": {},
   "outputs": [
    {
     "name": "stdout",
     "output_type": "stream",
     "text": [
      "<xarray.Dataset>\n",
      "Dimensions:    (lat: 120, lon: 320, nbnd: 2, time: 721)\n",
      "Coordinates:\n",
      "  * lat        (lat) float64 20.12 20.38 20.62 20.88 ... 49.12 49.38 49.62 49.88\n",
      "  * lon        (lon) float64 220.1 220.4 220.6 220.9 ... 299.1 299.4 299.6 299.9\n",
      "  * time       (time) object 2056-01-31 00:00:00 ... 2056-03-02 00:00:00\n",
      "Dimensions without coordinates: nbnd\n",
      "Data variables:\n",
      "    lat_bnds   (lat, nbnd) float64 20.0 20.25 20.25 20.5 ... 49.75 49.75 50.0\n",
      "    lon_bnds   (lon, nbnd) float64 220.0 220.2 220.2 220.5 ... 299.8 299.8 300.0\n",
      "    gw         (lat) float64 0.004097 0.00409 0.004084 ... 0.002827 0.002812\n",
      "    area       (lat, lon) float64 1.788e-05 1.788e-05 ... 1.227e-05 1.227e-05\n",
      "    FLUT       (time, lat, lon) float32 260.01245 252.55733 ... 204.52734\n",
      "    PRECT      (time, lat, lon) float32 1.8985883e-08 ... 4.7055093e-10\n",
      "    time_bnds  (time, nbnd) object 0056-01-30 22:59:59 ... 0056-03-02 00:00:00\n",
      "Attributes:\n",
      "    ne:                        120\n",
      "    np:                        4\n",
      "    Conventions:               CF-1.0\n",
      "    source:                    CAM\n",
      "    case:                      theta.20190910.branch_noCNT.n438b.unc03.A_WCYC...\n",
      "    title:                     UNSET\n",
      "    logname:                   ndkeen\n",
      "    host:                      thetamom3\n",
      "    Version:                   $Name$\n",
      "    revision_Id:               $Id$\n",
      "    initial_file:              /projects/ccsm/acme/inputdata/atm/cam/inic/hom...\n",
      "    topography_file:           /projects/ccsm/acme/inputdata/atm/cam/topo/USG...\n",
      "    time_period_freq:          hour_1\n",
      "    history:                   Fri Feb 21 22:34:27 2020: ncks -O -t 2 --no_tm...\n",
      "    remap_script:              ncremap\n",
      "    remap_command:             '/lus/theta-fs0/projects/ccsm/acme/tools/e3sm-...\n",
      "    remap_hostname:            thetalogin6\n",
      "    remap_version:             4.8.1\n",
      "    NCO:                       netCDF Operators version 4.8.1 (Homepage = htt...\n",
      "    nco_openmp_thread_number:  2\n",
      "    map_file:                  /projects/ClimateEnergy_4/sbaldwin/highres_con...\n",
      "    input_file:                ./daily_native//theta.20190910.branch_noCNT.n4...\n",
      "['2056-01-31', '2056-02-01', '2056-02-02', '2056-02-03', '2056-02-04', '2056-02-05', '2056-02-06', '2056-02-07', '2056-02-08', '2056-02-09', '2056-02-10', '2056-02-11', '2056-02-12', '2056-02-13', '2056-02-14', '2056-02-15', '2056-02-16', '2056-02-17', '2056-02-18', '2056-02-19', '2056-02-20', '2056-02-21', '2056-02-22', '2056-02-23', '2056-02-24', '2056-02-25', '2056-02-26', '2056-02-27', '2056-02-28', '2056-03-01']\n",
      "<xarray.Dataset>\n",
      "Dimensions:    (lat: 120, lon: 320, nbnd: 2, time: 721)\n",
      "Coordinates:\n",
      "  * lat        (lat) float64 20.12 20.38 20.62 20.88 ... 49.12 49.38 49.62 49.88\n",
      "  * lon        (lon) float64 220.1 220.4 220.6 220.9 ... 299.1 299.4 299.6 299.9\n",
      "  * time       (time) object 2060-02-10 00:00:00 ... 2060-03-12 00:00:00\n",
      "Dimensions without coordinates: nbnd\n",
      "Data variables:\n",
      "    lat_bnds   (lat, nbnd) float64 20.0 20.25 20.25 20.5 ... 49.75 49.75 50.0\n",
      "    lon_bnds   (lon, nbnd) float64 220.0 220.2 220.2 220.5 ... 299.8 299.8 300.0\n",
      "    gw         (lat) float64 0.004097 0.00409 0.004084 ... 0.002827 0.002812\n",
      "    area       (lat, lon) float64 1.788e-05 1.788e-05 ... 1.227e-05 1.227e-05\n",
      "    FLUT       (time, lat, lon) float32 259.48392 255.7907 ... 222.51103\n",
      "    PRECT      (time, lat, lon) float32 1.3095029e-10 ... 1.4012477e-13\n",
      "    time_bnds  (time, nbnd) object 0060-02-09 22:59:59 ... 0060-03-12 00:00:00\n",
      "Attributes:\n",
      "    ne:                        120\n",
      "    np:                        4\n",
      "    Conventions:               CF-1.0\n",
      "    source:                    CAM\n",
      "    case:                      theta.20190910.branch_noCNT.n438b.unc03.A_WCYC...\n",
      "    title:                     UNSET\n",
      "    logname:                   ndkeen\n",
      "    host:                      thetamom3\n",
      "    Version:                   $Name$\n",
      "    revision_Id:               $Id$\n",
      "    initial_file:              /projects/ccsm/acme/inputdata/atm/cam/inic/hom...\n",
      "    topography_file:           /projects/ccsm/acme/inputdata/atm/cam/topo/USG...\n",
      "    time_period_freq:          hour_1\n",
      "    history:                   Fri Feb 21 23:29:22 2020: ncks -O -t 2 --no_tm...\n",
      "    remap_script:              ncremap\n",
      "    remap_command:             '/lus/theta-fs0/projects/ccsm/acme/tools/e3sm-...\n",
      "    remap_hostname:            thetalogin6\n",
      "    remap_version:             4.8.1\n",
      "    NCO:                       netCDF Operators version 4.8.1 (Homepage = htt...\n",
      "    nco_openmp_thread_number:  2\n",
      "    map_file:                  /projects/ClimateEnergy_4/sbaldwin/highres_con...\n",
      "    input_file:                ./daily_native//theta.20190910.branch_noCNT.n4...\n",
      "['2060-02-10', '2060-02-11', '2060-02-12', '2060-02-13', '2060-02-14', '2060-02-15', '2060-02-16', '2060-02-17', '2060-02-18', '2060-02-19', '2060-02-20', '2060-02-21', '2060-02-22', '2060-02-23', '2060-02-24', '2060-02-25', '2060-02-26', '2060-02-27', '2060-02-28', '2060-03-01', '2060-03-02', '2060-03-03', '2060-03-04', '2060-03-05', '2060-03-06', '2060-03-07', '2060-03-08', '2060-03-09', '2060-03-10', '2060-03-11']\n",
      "<xarray.Dataset>\n",
      "Dimensions:    (lat: 120, lon: 320, nbnd: 2, time: 721)\n",
      "Coordinates:\n",
      "  * lat        (lat) float64 20.12 20.38 20.62 20.88 ... 49.12 49.38 49.62 49.88\n",
      "  * lon        (lon) float64 220.1 220.4 220.6 220.9 ... 299.1 299.4 299.6 299.9\n",
      "  * time       (time) object 2064-02-20 00:00:00 ... 2064-03-22 00:00:00\n",
      "Dimensions without coordinates: nbnd\n",
      "Data variables:\n",
      "    lat_bnds   (lat, nbnd) float64 20.0 20.25 20.25 20.5 ... 49.75 49.75 50.0\n",
      "    lon_bnds   (lon, nbnd) float64 220.0 220.2 220.2 220.5 ... 299.8 299.8 300.0\n",
      "    gw         (lat) float64 0.004097 0.00409 0.004084 ... 0.002827 0.002812\n",
      "    area       (lat, lon) float64 1.788e-05 1.788e-05 ... 1.227e-05 1.227e-05\n",
      "    FLUT       (time, lat, lon) float32 281.6049 282.0374 ... 215.20877\n",
      "    PRECT      (time, lat, lon) float32 1.7908624e-08 ... 7.991129e-09\n",
      "    time_bnds  (time, nbnd) object 0064-02-19 22:59:59 ... 0064-03-22 00:00:00\n",
      "Attributes:\n",
      "    ne:                        120\n",
      "    np:                        4\n",
      "    Conventions:               CF-1.0\n",
      "    source:                    CAM\n",
      "    case:                      theta.20190910.branch_noCNT.n438b.unc03.A_WCYC...\n",
      "    title:                     UNSET\n",
      "    logname:                   ndkeen\n",
      "    host:                      thetamom2\n",
      "    Version:                   $Name$\n",
      "    revision_Id:               $Id$\n",
      "    initial_file:              /projects/ccsm/acme/inputdata/atm/cam/inic/hom...\n",
      "    topography_file:           /projects/ccsm/acme/inputdata/atm/cam/topo/USG...\n",
      "    time_period_freq:          hour_1\n",
      "    history:                   Sat Feb 22 00:27:14 2020: ncks -O -t 2 --no_tm...\n",
      "    remap_script:              ncremap\n",
      "    remap_command:             '/lus/theta-fs0/projects/ccsm/acme/tools/e3sm-...\n",
      "    remap_hostname:            thetalogin6\n",
      "    remap_version:             4.8.1\n",
      "    NCO:                       netCDF Operators version 4.8.1 (Homepage = htt...\n",
      "    nco_openmp_thread_number:  2\n",
      "    map_file:                  /projects/ClimateEnergy_4/sbaldwin/highres_con...\n",
      "    input_file:                ./daily_native//theta.20190910.branch_noCNT.n4...\n",
      "['2064-02-20', '2064-02-21', '2064-02-22', '2064-02-23', '2064-02-24', '2064-02-25', '2064-02-26', '2064-02-27', '2064-02-28', '2064-03-01', '2064-03-02', '2064-03-03', '2064-03-04', '2064-03-05', '2064-03-06', '2064-03-07', '2064-03-08', '2064-03-09', '2064-03-10', '2064-03-11', '2064-03-12', '2064-03-13', '2064-03-14', '2064-03-15', '2064-03-16', '2064-03-17', '2064-03-18', '2064-03-19', '2064-03-20', '2064-03-21']\n",
      "<xarray.Dataset>\n",
      "Dimensions:    (lat: 120, lon: 320, nbnd: 2, time: 721)\n",
      "Coordinates:\n",
      "  * lat        (lat) float64 20.12 20.38 20.62 20.88 ... 49.12 49.38 49.62 49.88\n",
      "  * lon        (lon) float64 220.1 220.4 220.6 220.9 ... 299.1 299.4 299.6 299.9\n",
      "  * time       (time) object 2068-01-31 00:00:00 ... 2068-03-02 00:00:00\n",
      "Dimensions without coordinates: nbnd\n",
      "Data variables:\n",
      "    lat_bnds   (lat, nbnd) float64 20.0 20.25 20.25 20.5 ... 49.75 49.75 50.0\n",
      "    lon_bnds   (lon, nbnd) float64 220.0 220.2 220.2 220.5 ... 299.8 299.8 300.0\n",
      "    gw         (lat) float64 0.004097 0.00409 0.004084 ... 0.002827 0.002812\n",
      "    area       (lat, lon) float64 1.788e-05 1.788e-05 ... 1.227e-05 1.227e-05\n",
      "    FLUT       (time, lat, lon) float32 299.84183 299.6127 ... 202.61362\n",
      "    PRECT      (time, lat, lon) float32 1.1177798e-11 ... 5.2635314e-09\n",
      "    time_bnds  (time, nbnd) object 0068-01-30 22:59:59 ... 0068-03-02 00:00:00\n",
      "Attributes:\n",
      "    ne:                        120\n",
      "    np:                        4\n",
      "    Conventions:               CF-1.0\n",
      "    source:                    CAM\n",
      "    case:                      theta.20190910.branch_noCNT.n438b.unc03.A_WCYC...\n",
      "    title:                     UNSET\n",
      "    logname:                   ndkeen\n",
      "    host:                      thetamom2\n",
      "    Version:                   $Name$\n",
      "    revision_Id:               $Id$\n",
      "    initial_file:              /projects/ccsm/acme/inputdata/atm/cam/inic/hom...\n",
      "    topography_file:           /projects/ccsm/acme/inputdata/atm/cam/topo/USG...\n",
      "    time_period_freq:          hour_1\n",
      "    history:                   Sat Feb 22 01:13:31 2020: ncks -O -t 2 --no_tm...\n",
      "    remap_script:              ncremap\n",
      "    remap_command:             '/lus/theta-fs0/projects/ccsm/acme/tools/e3sm-...\n",
      "    remap_hostname:            thetalogin6\n",
      "    remap_version:             4.8.1\n",
      "    NCO:                       netCDF Operators version 4.8.1 (Homepage = htt...\n",
      "    nco_openmp_thread_number:  2\n",
      "    map_file:                  /projects/ClimateEnergy_4/sbaldwin/highres_con...\n",
      "    input_file:                ./daily_native//theta.20190910.branch_noCNT.n4...\n",
      "['2068-01-31', '2068-02-01', '2068-02-02', '2068-02-03', '2068-02-04', '2068-02-05', '2068-02-06', '2068-02-07', '2068-02-08', '2068-02-09', '2068-02-10', '2068-02-11', '2068-02-12', '2068-02-13', '2068-02-14', '2068-02-15', '2068-02-16', '2068-02-17', '2068-02-18', '2068-02-19', '2068-02-20', '2068-02-21', '2068-02-22', '2068-02-23', '2068-02-24', '2068-02-25', '2068-02-26', '2068-02-27', '2068-02-28', '2068-03-01']\n",
      "<xarray.Dataset>\n",
      "Dimensions:    (lat: 120, lon: 320, nbnd: 2, time: 721)\n",
      "Coordinates:\n",
      "  * lat        (lat) float64 20.12 20.38 20.62 20.88 ... 49.12 49.38 49.62 49.88\n",
      "  * lon        (lon) float64 220.1 220.4 220.6 220.9 ... 299.1 299.4 299.6 299.9\n",
      "  * time       (time) object 2072-02-10 00:00:00 ... 2072-03-12 00:00:00\n",
      "Dimensions without coordinates: nbnd\n",
      "Data variables:\n",
      "    lat_bnds   (lat, nbnd) float64 20.0 20.25 20.25 20.5 ... 49.75 49.75 50.0\n",
      "    lon_bnds   (lon, nbnd) float64 220.0 220.2 220.2 220.5 ... 299.8 299.8 300.0\n",
      "    gw         (lat) float64 0.004097 0.00409 0.004084 ... 0.002827 0.002812\n",
      "    area       (lat, lon) float64 1.788e-05 1.788e-05 ... 1.227e-05 1.227e-05\n",
      "    FLUT       (time, lat, lon) float32 294.94876 294.59665 ... 201.55809\n",
      "    PRECT      (time, lat, lon) float32 2.495458e-09 ... 7.92338e-09\n",
      "    time_bnds  (time, nbnd) object 0072-02-09 22:59:59 ... 0072-03-12 00:00:00\n",
      "Attributes:\n",
      "    ne:                        120\n",
      "    np:                        4\n",
      "    Conventions:               CF-1.0\n",
      "    source:                    CAM\n",
      "    case:                      theta.20190910.branch_noCNT.n438b.unc03.A_WCYC...\n",
      "    title:                     UNSET\n",
      "    logname:                   ndkeen\n",
      "    host:                      thetamom1\n",
      "    Version:                   $Name$\n",
      "    revision_Id:               $Id$\n",
      "    initial_file:              /projects/ccsm/acme/inputdata/atm/cam/inic/hom...\n",
      "    topography_file:           /projects/ccsm/acme/inputdata/atm/cam/topo/USG...\n",
      "    time_period_freq:          hour_1\n",
      "    history:                   Sat Feb 22 01:58:43 2020: ncks -O -t 2 --no_tm...\n",
      "    remap_script:              ncremap\n",
      "    remap_command:             '/lus/theta-fs0/projects/ccsm/acme/tools/e3sm-...\n",
      "    remap_hostname:            thetalogin6\n",
      "    remap_version:             4.8.1\n",
      "    NCO:                       netCDF Operators version 4.8.1 (Homepage = htt...\n",
      "    nco_openmp_thread_number:  2\n",
      "    map_file:                  /projects/ClimateEnergy_4/sbaldwin/highres_con...\n",
      "    input_file:                ./daily_native//theta.20190910.branch_noCNT.n4...\n",
      "['2072-02-10', '2072-02-11', '2072-02-12', '2072-02-13', '2072-02-14', '2072-02-15', '2072-02-16', '2072-02-17', '2072-02-18', '2072-02-19', '2072-02-20', '2072-02-21', '2072-02-22', '2072-02-23', '2072-02-24', '2072-02-25', '2072-02-26', '2072-02-27', '2072-02-28', '2072-03-01', '2072-03-02', '2072-03-03', '2072-03-04', '2072-03-05', '2072-03-06', '2072-03-07', '2072-03-08', '2072-03-09', '2072-03-10', '2072-03-11']\n",
      "<xarray.Dataset>\n",
      "Dimensions:    (lat: 120, lon: 320, nbnd: 2, time: 721)\n",
      "Coordinates:\n",
      "  * lat        (lat) float64 20.12 20.38 20.62 20.88 ... 49.12 49.38 49.62 49.88\n",
      "  * lon        (lon) float64 220.1 220.4 220.6 220.9 ... 299.1 299.4 299.6 299.9\n",
      "  * time       (time) object 2076-02-20 00:00:00 ... 2076-03-22 00:00:00\n",
      "Dimensions without coordinates: nbnd\n",
      "Data variables:\n",
      "    lat_bnds   (lat, nbnd) float64 20.0 20.25 20.25 20.5 ... 49.75 49.75 50.0\n",
      "    lon_bnds   (lon, nbnd) float64 220.0 220.2 220.2 220.5 ... 299.8 299.8 300.0\n",
      "    gw         (lat) float64 0.004097 0.00409 0.004084 ... 0.002827 0.002812\n",
      "    area       (lat, lon) float64 1.788e-05 1.788e-05 ... 1.227e-05 1.227e-05\n",
      "    FLUT       (time, lat, lon) float32 297.9973 294.55637 ... 217.16922\n",
      "    PRECT      (time, lat, lon) float32 2.9554702e-11 ... 1.0305069e-14\n",
      "    time_bnds  (time, nbnd) object 0076-02-19 22:59:59 ... 0076-03-22 00:00:00\n",
      "Attributes:\n",
      "    ne:                        120\n",
      "    np:                        4\n",
      "    Conventions:               CF-1.0\n",
      "    source:                    CAM\n",
      "    case:                      theta.20190910.branch_noCNT.n438b.unc03.A_WCYC...\n",
      "    title:                     UNSET\n",
      "    logname:                   ndkeen\n",
      "    host:                      thetamom3\n",
      "    Version:                   $Name$\n",
      "    revision_Id:               $Id$\n",
      "    initial_file:              /projects/ccsm/acme/inputdata/atm/cam/inic/hom...\n",
      "    topography_file:           /projects/ccsm/acme/inputdata/atm/cam/topo/USG...\n",
      "    time_period_freq:          hour_1\n",
      "    history:                   Sat Feb 22 02:43:17 2020: ncks -O -t 2 --no_tm...\n",
      "    remap_script:              ncremap\n",
      "    remap_command:             '/lus/theta-fs0/projects/ccsm/acme/tools/e3sm-...\n",
      "    remap_hostname:            thetalogin6\n",
      "    remap_version:             4.8.1\n",
      "    NCO:                       netCDF Operators version 4.8.1 (Homepage = htt...\n",
      "    nco_openmp_thread_number:  2\n",
      "    map_file:                  /projects/ClimateEnergy_4/sbaldwin/highres_con...\n",
      "    input_file:                ./daily_native//theta.20190910.branch_noCNT.n4...\n",
      "['2076-02-20', '2076-02-21', '2076-02-22', '2076-02-23', '2076-02-24', '2076-02-25', '2076-02-26', '2076-02-27', '2076-02-28', '2076-03-01', '2076-03-02', '2076-03-03', '2076-03-04', '2076-03-05', '2076-03-06', '2076-03-07', '2076-03-08', '2076-03-09', '2076-03-10', '2076-03-11', '2076-03-12', '2076-03-13', '2076-03-14', '2076-03-15', '2076-03-16', '2076-03-17', '2076-03-18', '2076-03-19', '2076-03-20', '2076-03-21']\n",
      "<xarray.Dataset>\n",
      "Dimensions:    (lat: 120, lon: 320, nbnd: 2, time: 361)\n",
      "Coordinates:\n",
      "  * lat        (lat) float64 20.12 20.38 20.62 20.88 ... 49.12 49.38 49.62 49.88\n",
      "  * lon        (lon) float64 220.1 220.4 220.6 220.9 ... 299.1 299.4 299.6 299.9\n",
      "  * time       (time) object 2076-12-17 00:00:00 ... 2077-01-01 00:00:00\n",
      "Dimensions without coordinates: nbnd\n",
      "Data variables:\n",
      "    lat_bnds   (lat, nbnd) float64 20.0 20.25 20.25 20.5 ... 49.75 49.75 50.0\n",
      "    lon_bnds   (lon, nbnd) float64 220.0 220.2 220.2 220.5 ... 299.8 299.8 300.0\n",
      "    gw         (lat) float64 0.004097 0.00409 0.004084 ... 0.002827 0.002812\n",
      "    area       (lat, lon) float64 1.788e-05 1.788e-05 ... 1.227e-05 1.227e-05\n",
      "    FLUT       (time, lat, lon) float32 283.9166 283.35974 ... 203.89012\n",
      "    PRECT      (time, lat, lon) float32 5.0332075e-11 ... 1.8170802e-09\n",
      "    time_bnds  (time, nbnd) object 0076-12-16 22:59:59 ... 0077-01-01 00:00:00\n",
      "Attributes:\n",
      "    ne:                        120\n",
      "    np:                        4\n",
      "    Conventions:               CF-1.0\n",
      "    source:                    CAM\n",
      "    case:                      theta.20190910.branch_noCNT.n438b.unc03.A_WCYC...\n",
      "    title:                     UNSET\n",
      "    logname:                   ndkeen\n",
      "    host:                      thetamom2\n",
      "    Version:                   $Name$\n",
      "    revision_Id:               $Id$\n",
      "    initial_file:              /projects/ccsm/acme/inputdata/atm/cam/inic/hom...\n",
      "    topography_file:           /projects/ccsm/acme/inputdata/atm/cam/topo/USG...\n",
      "    time_period_freq:          hour_1\n",
      "    history:                   Sat Feb 22 02:52:48 2020: ncks -O -t 2 --no_tm...\n",
      "    remap_script:              ncremap\n",
      "    remap_command:             '/lus/theta-fs0/projects/ccsm/acme/tools/e3sm-...\n",
      "    remap_hostname:            thetalogin6\n",
      "    remap_version:             4.8.1\n",
      "    NCO:                       netCDF Operators version 4.8.1 (Homepage = htt...\n",
      "    nco_openmp_thread_number:  2\n",
      "    map_file:                  /projects/ClimateEnergy_4/sbaldwin/highres_con...\n",
      "    input_file:                ./daily_native//theta.20190910.branch_noCNT.n4...\n",
      "['2076-12-17', '2076-12-18', '2076-12-19', '2076-12-20', '2076-12-21', '2076-12-22', '2076-12-23', '2076-12-24', '2076-12-25', '2076-12-26', '2076-12-27', '2076-12-28', '2076-12-29', '2076-12-30', '2076-12-31']\n"
     ]
    }
   ],
   "source": [
    "for f in files_to_reprocess:\n",
    "    split_subset_and_write(f, test=False)"
   ]
  },
  {
   "cell_type": "code",
   "execution_count": 125,
   "metadata": {},
   "outputs": [],
   "source": [
    "x1 = pd.date_range(start='2056-03-02', periods=30)"
   ]
  },
  {
   "cell_type": "code",
   "execution_count": 129,
   "metadata": {},
   "outputs": [
    {
     "data": {
      "text/plain": [
       "3"
      ]
     },
     "execution_count": 129,
     "metadata": {},
     "output_type": "execute_result"
    }
   ],
   "source": [
    "x1[0].month"
   ]
  },
  {
   "cell_type": "code",
   "execution_count": 124,
   "metadata": {},
   "outputs": [
    {
     "data": {
      "text/plain": [
       "'2056-04-01'"
      ]
     },
     "execution_count": 124,
     "metadata": {},
     "output_type": "execute_result"
    }
   ],
   "source": [
    "'2' + files_to_process[3].split('.')[-2][1:10]"
   ]
  },
  {
   "cell_type": "code",
   "execution_count": 140,
   "metadata": {},
   "outputs": [
    {
     "data": {
      "text/plain": [
       "[]"
      ]
     },
     "execution_count": 140,
     "metadata": {},
     "output_type": "execute_result"
    }
   ],
   "source": [
    "previously_processed = sorted(glob(f'{output_dir}*.nc'))\n",
    "previously_processed_dates = [f.split('.')[-3] for f in previously_processed]\n",
    "ndays = 30\n",
    "files_to_reprocess = []\n",
    "for f in files_to_process[1:-1]:\n",
    "    d0 = '2' + f.split('.')[-2][1:10]\n",
    "    these_dates = pd.date_range(start=d0, periods=ndays)\n",
    "    these_dates = [d.strftime('%Y-%m-%d') for d in these_dates if not (d.month == 2 and d.day == 29)]\n",
    "    if any(d not in previously_processed_dates for d in these_dates):\n",
    "        print('found something!')\n",
    "        files_to_reprocess.append(f)\n",
    "        print(f)\n",
    "files_to_reprocess"
   ]
  },
  {
   "cell_type": "code",
   "execution_count": 76,
   "metadata": {},
   "outputs": [
    {
     "name": "stdout",
     "output_type": "stream",
     "text": [
      "/global/cscratch1/sd/crjones/highres_continuation/hourly_720x1400/tmp/theta.20190910.branch_noCNT.n438b.unc03.A_WCYCL1950S_CMIP6_HR.ne120_oRRS18v3_ICG.cam.h5.0056-03-02-00000.nc\n",
      "/global/cscratch1/sd/sbaldwin/highres_continuation/hourly_720x1440/theta.20190910.branch_noCNT.n438b.unc03.A_WCYCL1950S_CMIP6_HR.ne120_oRRS18v3_ICG.cam.h5.0056-03-02-03600.nc\n"
     ]
    }
   ],
   "source": [
    "f1 = files_to_process[2]\n",
    "file_name = os.path.split(f1)[-1]\n",
    "f0 = input_dir_tmp + file_name.replace('-03600.nc', '-00000.nc')\n",
    "print(f0)\n",
    "print(f1)"
   ]
  },
  {
   "cell_type": "code",
   "execution_count": 79,
   "metadata": {},
   "outputs": [],
   "source": [
    "split_subset_and_write(f1, test=False)"
   ]
  },
  {
   "cell_type": "code",
   "execution_count": 72,
   "metadata": {},
   "outputs": [
    {
     "data": {
      "text/plain": [
       "['2056-03-02',\n",
       " '2056-03-03',\n",
       " '2056-03-04',\n",
       " '2056-03-05',\n",
       " '2056-03-06',\n",
       " '2056-03-07',\n",
       " '2056-03-08',\n",
       " '2056-03-09',\n",
       " '2056-03-10',\n",
       " '2056-03-11',\n",
       " '2056-03-12',\n",
       " '2056-03-13',\n",
       " '2056-03-14',\n",
       " '2056-03-15',\n",
       " '2056-03-16',\n",
       " '2056-03-17',\n",
       " '2056-03-18',\n",
       " '2056-03-19',\n",
       " '2056-03-20',\n",
       " '2056-03-21',\n",
       " '2056-03-22',\n",
       " '2056-03-23',\n",
       " '2056-03-24',\n",
       " '2056-03-25',\n",
       " '2056-03-26',\n",
       " '2056-03-27',\n",
       " '2056-03-28',\n",
       " '2056-03-29',\n",
       " '2056-03-30',\n",
       " '2056-03-31']"
      ]
     },
     "execution_count": 72,
     "metadata": {},
     "output_type": "execute_result"
    }
   ],
   "source": [
    "select_dates(dsa)"
   ]
  },
  {
   "cell_type": "markdown",
   "metadata": {},
   "source": [
    "# Split files to daily"
   ]
  },
  {
   "cell_type": "code",
   "execution_count": 19,
   "metadata": {},
   "outputs": [],
   "source": [
    "input_dir = '/global/cscratch1/sd/sbaldwin/highres_continuation/hourly_720x1440/'\n",
    "output_dir = '/global/cscratch1/sd/crjones/highres_continuation/hourly_720x1400/'\n",
    "input_dir_tmp = output_dir + 'tmp/'"
   ]
  },
  {
   "cell_type": "code",
   "execution_count": 23,
   "metadata": {},
   "outputs": [
    {
     "name": "stdout",
     "output_type": "stream",
     "text": [
      "/global/cscratch1/sd/crjones/highres_continuation/hourly_720x1400/tmp/theta.20190910.branch_noCNT.n438b.unc03.A_WCYCL1950S_CMIP6_HR.ne120_oRRS18v3_ICG.cam.h5.0056-01-31-00000.nc\n"
     ]
    }
   ],
   "source": [
    "f1 = files_to_process[1]\n",
    "file_name = os.path.split(f1)[-1]\n",
    "f0 = input_dir_tmp + file_name.replace('-03600.nc', '-00000.nc')\n",
    "print(f0)"
   ]
  },
  {
   "cell_type": "code",
   "execution_count": 36,
   "metadata": {},
   "outputs": [
    {
     "name": "stdout",
     "output_type": "stream",
     "text": [
      "<xarray.Dataset>\n",
      "Dimensions:    (lat: 120, lon: 320, nbnd: 2, time: 720)\n",
      "Coordinates:\n",
      "  * lat        (lat) float64 20.12 20.38 20.62 20.88 ... 49.12 49.38 49.62 49.88\n",
      "  * lon        (lon) float64 220.1 220.4 220.6 220.9 ... 299.1 299.4 299.6 299.9\n",
      "  * time       (time) object 2056-01-01 01:00:00 ... 2056-01-31 00:00:00\n",
      "Dimensions without coordinates: nbnd\n",
      "Data variables:\n",
      "    lat_bnds   (lat, nbnd) float64 20.0 20.25 20.25 20.5 ... 49.75 49.75 50.0\n",
      "    lon_bnds   (lon, nbnd) float64 220.0 220.2 220.2 220.5 ... 299.8 299.8 300.0\n",
      "    gw         (lat) float64 0.004097 0.00409 0.004084 ... 0.002827 0.002812\n",
      "    area       (lat, lon) float64 1.788e-05 1.788e-05 ... 1.227e-05 1.227e-05\n",
      "    FLUT       (time, lat, lon) float32 285.8139 286.9027 ... 221.59543\n",
      "    PRECT      (time, lat, lon) float32 9.734675e-09 ... 1.975757e-10\n",
      "    time_bnds  (time, nbnd) object 0056-01-01 00:00:00 ... 0056-01-31 00:00:00\n",
      "Attributes:\n",
      "    ne:                        120\n",
      "    np:                        4\n",
      "    Conventions:               CF-1.0\n",
      "    source:                    CAM\n",
      "    case:                      theta.20190910.branch_noCNT.n438b.unc03.A_WCYC...\n",
      "    title:                     UNSET\n",
      "    logname:                   ndkeen\n",
      "    host:                      thetamom3\n",
      "    Version:                   $Name$\n",
      "    revision_Id:               $Id$\n",
      "    initial_file:              /projects/ccsm/acme/inputdata/atm/cam/inic/hom...\n",
      "    topography_file:           /projects/ccsm/acme/inputdata/atm/cam/topo/USG...\n",
      "    time_period_freq:          hour_1\n",
      "    history:                   Fri Feb 21 22:34:27 2020: ncks -O -t 2 --no_tm...\n",
      "    remap_script:              ncremap\n",
      "    remap_command:             '/lus/theta-fs0/projects/ccsm/acme/tools/e3sm-...\n",
      "    remap_hostname:            thetalogin6\n",
      "    remap_version:             4.8.1\n",
      "    NCO:                       netCDF Operators version 4.8.1 (Homepage = htt...\n",
      "    nco_openmp_thread_number:  2\n",
      "    map_file:                  /projects/ClimateEnergy_4/sbaldwin/highres_con...\n",
      "    input_file:                ./daily_native//theta.20190910.branch_noCNT.n4...\n"
     ]
    }
   ],
   "source": [
    "for f1 in files_to_process[0:1]:\n",
    "    file_name = os.path.split(f1)[-1]\n",
    "    f0 = input_dir_tmp + file_name.replace('-03600.nc', '-00000.nc')\n",
    "    with (xr.open_mfdataset([f0, f1], data_vars='minimal') if os.path.isfile(f0) else xr.open_dataset(f1)) as ds:\n",
    "        dsx = subset_to_conus(ds, transpose_dims=False).load()\n",
    "        print(dsx)"
   ]
  },
  {
   "cell_type": "code",
   "execution_count": 25,
   "metadata": {},
   "outputs": [
    {
     "data": {
      "text/plain": [
       "<xarray.Dataset>\n",
       "Dimensions:    (lat: 720, lon: 1440, nbnd: 2, time: 721)\n",
       "Coordinates:\n",
       "  * lat        (lat) float64 -89.88 -89.62 -89.38 -89.12 ... 89.38 89.62 89.88\n",
       "  * lon        (lon) float64 0.125 0.375 0.625 0.875 ... 359.1 359.4 359.6 359.9\n",
       "  * time       (time) object 0056-01-31 00:00:00 ... 0056-03-02 00:00:00\n",
       "Dimensions without coordinates: nbnd\n",
       "Data variables:\n",
       "    lat_bnds   (time, lat, nbnd) float64 dask.array<shape=(721, 720, 2), chunksize=(1, 720, 2)>\n",
       "    lon_bnds   (time, lon, nbnd) float64 dask.array<shape=(721, 1440, 2), chunksize=(1, 1440, 2)>\n",
       "    gw         (time, lat) float64 dask.array<shape=(721, 720), chunksize=(1, 720)>\n",
       "    area       (time, lat, lon) float64 dask.array<shape=(721, 720, 1440), chunksize=(1, 720, 1440)>\n",
       "    FLUT       (lat, lon, time) float32 dask.array<shape=(720, 1440, 721), chunksize=(720, 1440, 1)>\n",
       "    PRECT      (lat, lon, time) float32 dask.array<shape=(720, 1440, 721), chunksize=(720, 1440, 1)>\n",
       "    time_bnds  (nbnd, time) object dask.array<shape=(2, 721), chunksize=(2, 1)>\n",
       "Attributes:\n",
       "    ne:                        120\n",
       "    np:                        4\n",
       "    Conventions:               CF-1.0\n",
       "    source:                    CAM\n",
       "    case:                      theta.20190910.branch_noCNT.n438b.unc03.A_WCYC...\n",
       "    title:                     UNSET\n",
       "    logname:                   ndkeen\n",
       "    host:                      thetamom3\n",
       "    Version:                   $Name$\n",
       "    revision_Id:               $Id$\n",
       "    initial_file:              /projects/ccsm/acme/inputdata/atm/cam/inic/hom...\n",
       "    topography_file:           /projects/ccsm/acme/inputdata/atm/cam/topo/USG...\n",
       "    time_period_freq:          hour_1\n",
       "    history:                   Fri Feb 21 22:34:27 2020: ncks -O -t 2 --no_tm...\n",
       "    remap_script:              ncremap\n",
       "    remap_command:             '/lus/theta-fs0/projects/ccsm/acme/tools/e3sm-...\n",
       "    remap_hostname:            thetalogin6\n",
       "    remap_version:             4.8.1\n",
       "    NCO:                       netCDF Operators version 4.8.1 (Homepage = htt...\n",
       "    nco_openmp_thread_number:  2\n",
       "    map_file:                  /projects/ClimateEnergy_4/sbaldwin/highres_con...\n",
       "    input_file:                ./daily_native//theta.20190910.branch_noCNT.n4..."
      ]
     },
     "execution_count": 25,
     "metadata": {},
     "output_type": "execute_result"
    }
   ],
   "source": [
    "ds = xr.open_mfdataset([f0, f1], concat_dim='time') if os.path.isfile(f0) else xr.open_dataset(f1)\n",
    "ds"
   ]
  },
  {
   "cell_type": "code",
   "execution_count": 43,
   "metadata": {},
   "outputs": [
    {
     "name": "stdout",
     "output_type": "stream",
     "text": [
      "DatetimeIndex(['2056-01-01', '2056-01-02', '2056-01-03', '2056-01-04',\n",
      "               '2056-01-05', '2056-01-06', '2056-01-07', '2056-01-08',\n",
      "               '2056-01-09', '2056-01-10', '2056-01-11', '2056-01-12',\n",
      "               '2056-01-13', '2056-01-14', '2056-01-15', '2056-01-16',\n",
      "               '2056-01-17', '2056-01-18', '2056-01-19', '2056-01-20',\n",
      "               '2056-01-21', '2056-01-22', '2056-01-23', '2056-01-24',\n",
      "               '2056-01-25', '2056-01-26', '2056-01-27', '2056-01-28',\n",
      "               '2056-01-29', '2056-01-30', '2056-01-31'],\n",
      "              dtype='datetime64[ns]', freq='D')\n"
     ]
    }
   ],
   "source": [
    "the_days = pd.date_range(day0, day1)\n",
    "print(the_days)"
   ]
  },
  {
   "cell_type": "code",
   "execution_count": 51,
   "metadata": {},
   "outputs": [
    {
     "data": {
      "text/plain": [
       "<xarray.core.groupby.DatasetGroupBy at 0x2aab17e86f90>"
      ]
     },
     "execution_count": 51,
     "metadata": {},
     "output_type": "execute_result"
    }
   ],
   "source": [
    "days, dsets = zip(*dsx.groupby('time.dayofyear'))"
   ]
  },
  {
   "cell_type": "code",
   "execution_count": 46,
   "metadata": {},
   "outputs": [
    {
     "name": "stdout",
     "output_type": "stream",
     "text": [
      "2056-01-01 2056-01-31\n"
     ]
    }
   ],
   "source": [
    "day0 = dsx.time[0].item().strftime('%Y-%m-%d')\n",
    "day1 = dsx.time[-1].item().strftime('%Y-%m-%d')\n",
    "print(day0, day1)"
   ]
  }
 ],
 "metadata": {
  "kernelspec": {
   "display_name": "spe3sm-jupyter",
   "language": "python",
   "name": "spe3sm-jupyter"
  },
  "language_info": {
   "codemirror_mode": {
    "name": "ipython",
    "version": 3
   },
   "file_extension": ".py",
   "mimetype": "text/x-python",
   "name": "python",
   "nbconvert_exporter": "python",
   "pygments_lexer": "ipython3",
   "version": "3.7.7"
  }
 },
 "nbformat": 4,
 "nbformat_minor": 4
}
